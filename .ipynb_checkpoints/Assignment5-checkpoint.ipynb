{
 "cells": [
  {
   "cell_type": "code",
   "execution_count": 190,
   "metadata": {},
   "outputs": [],
   "source": [
    "import os\n",
    "import imageio\n",
    "import matplotlib\n",
    "import numpy as np\n",
    "import pandas as pd\n",
    "import matplotlib.pyplot as plt\n",
    "\n",
    "from skimage import feature\n",
    "from scipy import ndimage, misc\n",
    "\n",
    "from sklearn import preprocessing\n",
    "from sklearn.metrics import accuracy_score\n",
    "from sklearn.neighbors import KNeighborsClassifier\n",
    "from sklearn.ensemble import RandomForestClassifier\n",
    "from sklearn.model_selection import train_test_split"
   ]
  },
  {
   "cell_type": "code",
   "execution_count": 2,
   "metadata": {},
   "outputs": [],
   "source": [
    "#Used when reading images\n",
    "letterDict={\n",
    "  \"a\": 0,\"b\": 1,\"c\": 2,\"d\": 3,\"e\": 4,\"f\": 5,\"g\": 6,\"h\": 7,\"i\": 8,\n",
    "    \"j\": 9,\"k\": 10,\"l\": 11,\"m\": 12,\"n\": 13,\"o\": 14,\"p\": 15,\"q\": 16,\"r\": 17,\n",
    "    \"s\": 18,\"t\": 19,\"u\": 20,\"v\": 21,\"w\": 22,\"x\": 23,\"y\": 24,\"z\": 25}\n",
    "\n",
    "#Used when printing images\n",
    "numberDict={\n",
    "    0:\"A\", 1:\"B\", 2:\"C\", 3:\"D\", 4:\"E\", 5:\"F\", 6:\"G\", 7:\"H\", 8:\"I\",\n",
    "    9:\"J\", 10:\"K\", 11:\"L\", 12:\"M\", 13:\"N\", 14:\"O\", 15:\"P\", 16:\"Q\", 17:\"R\",\n",
    "    18:\"S\", 19:\"T\", 20:\"U\", 21:\"V\", 22:\"W\", 23:\"X\", 24:\"Y\", 25:\"Z\"}\n",
    "\n",
    "\n",
    "def readPicture(df_complete, directory,letter_value):\n",
    "    im = imageio.imread(directory)\n",
    "    im.shape\n",
    "    print(\"Letter value: \", directory, end=\"\\r\")\n",
    "\n",
    "    im=np.reshape(im,400)\n",
    "    df = pd.DataFrame(data=im).T\n",
    "    y = np.repeat(0,400)\n",
    "    df['Letter'] = letter_value\n",
    "    \n",
    "    return df_complete.append(df, ignore_index=True)\n",
    "\n",
    "#Method ment for adding augmented pictures to a dataset\n",
    "def addPictureToDataset(dataset, picture, letter_value):\n",
    "    picture = np.reshape(picture,400)\n",
    "    df = pd.DataFrame(data=picture).T\n",
    "    df['Letter'] = letter_value\n",
    "    return dataset.append(df, ignore_index=True)"
   ]
  },
  {
   "cell_type": "code",
   "execution_count": 3,
   "metadata": {},
   "outputs": [],
   "source": [
    "\n",
    "def read_all_images(upper_directory):\n",
    "    number_of_images = 0\n",
    "    original_imgs = pd.DataFrame()\n",
    "    aug20 = pd.DataFrame()\n",
    "    aug90 = pd.DataFrame()\n",
    "    aug270 = pd.DataFrame()\n",
    "    aug320 = pd.DataFrame()\n",
    "    for subdir, dirs, files in os.walk(upper_directory):\n",
    "        for file in files:\n",
    "            number_of_images+=1\n",
    "            #print os.path.join(subdir, file)\n",
    "            filepath = subdir + os.sep + file\n",
    "            if filepath.endswith(\".jpg\"):\n",
    "                # print(filepath)\n",
    "                # Rotate every image that is being loaded:\n",
    "            \n",
    "                x = filepath.split(\"/\")\n",
    "                rotate20 = rotate_image(filepath,x[-1],20)\n",
    "                rotate90 = rotate_image(filepath,x[-1],90)\n",
    "                rotate270 = rotate_image(filepath,x[-1],270)\n",
    "                rotate320 = rotate_image(filepath,x[-1],320)\n",
    "                                \n",
    "                # The label for the data:\n",
    "                letter = (x[-1][0])\n",
    "                letter_val = letterDict.get(letter)\n",
    "                original_imgs = readPicture(original_imgs,filepath,letter_val)\n",
    "                aug20 = addPictureToDataset(aug20, rotate20, letter_val)\n",
    "                aug90 = addPictureToDataset(aug90, rotate90, letter_val)\n",
    "                aug270 = addPictureToDataset(aug270, rotate270, letter_val)\n",
    "                aug320 = addPictureToDataset(aug320, rotate320, letter_val)\n",
    "    print(\"image\")\n",
    "    # vv.imshow(\"./dataset3/chars74k-lite/augmented/rotated_neg_a102.jpg\")\n",
    "    print(\"number_of_images\", number_of_images)\n",
    "    return original_imgs, aug20, aug90, aug270, aug320\n",
    "\n",
    "\n",
    "#Rotates an image, stores it in a folder and returns the rotated image\n",
    "def rotate_image(image_path,ending,deg):\n",
    "    out_path = \"./dataset3/augmented/\"\n",
    "    image_to_rotate = plt.imread(image_path)\n",
    "    \n",
    "    # Rotating the image:\n",
    "    rotated_positive = ndimage.rotate(image_to_rotate, deg, reshape=False)\n",
    "   \n",
    "    fullpath = os.path.join(out_path, 'rotated_'+ str(deg) + '_' + ending)\n",
    "    imageio.imwrite(fullpath, rotated_positive)\n",
    "    return rotated_positive\n"
   ]
  },
  {
   "cell_type": "code",
   "execution_count": 4,
   "metadata": {},
   "outputs": [
    {
     "name": "stdout",
     "output_type": "stream",
     "text": [
      "imager value:  ./dataset3/chars74k-lite/w/w_42.jpgg./dataset3/chars74k-lite/u/u_11.jpg ./dataset3/chars74k-lite/i/i_40.jpg./dataset3/chars74k-lite/f/f_90.jpg\n",
      "number_of_images 7113\n"
     ]
    }
   ],
   "source": [
    "# Load unaugmented data, no feature selection:            \n",
    "original_raw, aug20, aug90, aug270, aug320 = read_all_images(\"./dataset3/chars74k-lite\")\n",
    "#original_raw"
   ]
  },
  {
   "cell_type": "code",
   "execution_count": 5,
   "metadata": {},
   "outputs": [],
   "source": [
    "#Method prints a letter from a panda dataset. \n",
    "#Input must be a single row from a panda dataset (a_letter = data.iloc[0])\n",
    "def printLetter(letter):\n",
    "    numpy_letter = letter[0:-1].values\n",
    "    plt.imshow(numpy_letter.reshape(20,20), cmap = matplotlib.cm.binary)\n",
    "    plt.axis(\"off\")\n",
    "    plt.title('Supposed to be {}'.format(numberDict.get(letter['Letter'])), fontsize=20)\n",
    "    plt.show()\n",
    "    return\n",
    "\n",
    "\n",
    "#Method prints to dataset to compare actual image to edge detected image\n",
    "def printFromStartToStop(start, stop, data1, data2):\n",
    "    array = np.arange(start, stop)\n",
    "    for i in range(array.size):\n",
    "        printLetter(data1.iloc[array[i]])\n",
    "        printLetter(data2.iloc[array[i]])\n",
    "    return\n",
    "\n",
    "def printPred(letter):\n",
    "    plt.imshow(numpy_letter.reshape(20,20), cmap = matplotlib.cm.binary)\n",
    "    plt.axis(\"off\")\n",
    "    plt.title('Supposed to be {}'.format(numberDict.get(letter['Letter'])), fontsize=20)\n",
    "    plt.show()\n",
    "    return"
   ]
  },
  {
   "cell_type": "code",
   "execution_count": 9,
   "metadata": {},
   "outputs": [],
   "source": [
    "#Splitting dataset such that we get 80/20 for each letter\n",
    "def get_train_test_set(data):\n",
    "    train_set = pd.DataFrame()\n",
    "    test_set = pd.DataFrame()\n",
    "    \n",
    "    for i in range(26):\n",
    "        train, test = train_test_split(data.loc[data['Letter']==i], test_size=0.2, shuffle=True)\n",
    "        \n",
    "        train_set = train_set.append([train], ignore_index=True)\n",
    "        test_set = test_set.append([test], ignore_index=True)\n",
    "    return train_set, test_set\n",
    "\n",
    "\n",
    "train_set, test_set = get_train_test_set(mergedData)"
   ]
  },
  {
   "cell_type": "code",
   "execution_count": 8,
   "metadata": {},
   "outputs": [],
   "source": [
    "#Methood merges dataset1 with dataset2\n",
    "#Used to merge originale dataset with augmented datasets\n",
    "def mergeData(dataset1, dataset2):\n",
    "    return dataset1.append(dataset2, ignore_index=True)\n",
    "\n",
    "mergedData = mergeData(original_raw, aug20)\n",
    "mergedData = mergeData(mergedData, aug90)\n",
    "mergedData = mergeData(mergedData, aug270)\n",
    "mergedData = mergeData(mergedData, aug320)\n",
    "#mergedData"
   ]
  },
  {
   "cell_type": "markdown",
   "metadata": {},
   "source": [
    "# Feature Engineering"
   ]
  },
  {
   "cell_type": "markdown",
   "metadata": {},
   "source": [
    "## Scaling Methods"
   ]
  },
  {
   "cell_type": "code",
   "execution_count": 6,
   "metadata": {},
   "outputs": [],
   "source": [
    "#Scale features using StandardScaler. Assumes the features are from 0 to 399.\n",
    "\n",
    "#The scaled values are not between -1 and 1. This is strange and may\n",
    "#indicate that this scaler is not working out.\n",
    "def standardScaling(data):\n",
    "    scaled_data = pd.DataFrame()\n",
    "    scaler = preprocessing.StandardScaler()\n",
    "    features = np.arange(400)\n",
    "    for i in range(data.shape[0]):\n",
    "        print(\"StandardScaling Data: {}\".format(i), end=\"\\r\")\n",
    "        letter = data['Letter'].iloc[i]\n",
    "        im = data[features].iloc[i].values\n",
    "        im = im.reshape(20,20)\n",
    "        im = im.astype(float)\n",
    "        scaled_im = scaler.fit_transform(im)\n",
    "        scaled_data = addPictureToDataset(scaled_data, scaled_im, letter)\n",
    "    return scaled_data\n",
    "\n",
    "\n",
    "#Scale features using MinMaxScaler. Assumes the features are from 0 to 399.\n",
    "def minMaxScaling(data):\n",
    "    scaled_data = pd.DataFrame()\n",
    "    scaler = preprocessing.MinMaxScaler()\n",
    "    features = np.arange(400)\n",
    "    for i in range(data.shape[0]):\n",
    "        print(\"MinMaxScaling Data: {}\".format(i), end=\"\\r\")\n",
    "        letter = data['Letter'].iloc[i]\n",
    "        im = data[features].iloc[i].values\n",
    "        im = im.reshape(20,20)\n",
    "        im = im.astype(float)\n",
    "        scaled_im = scaler.fit_transform(im)\n",
    "        scaled_data = addPictureToDataset(scaled_data, scaled_im, letter)\n",
    "    return scaled_data\n",
    "\n",
    "\n",
    "#Divides all features by 255 to get a number between 0 and 1. \n",
    "#Not a preferred method.\n",
    "def simpleScale(data):\n",
    "    scaled_data = pd.DataFrame()\n",
    "    features = np.arange(400)\n",
    "    for i in range(data.shape[0]):\n",
    "        print(\"Simply Scaling Data: {}\".format(i), end=\"\\r\")\n",
    "        letter = data['Letter'].iloc[i]\n",
    "        im = data[features].iloc[i].values\n",
    "        im = im.reshape(20,20)\n",
    "        im = im.astype(float)\n",
    "        scaled_im = im/255\n",
    "        scaled_data = addPictureToDataset(scaled_data, scaled_im, letter)\n",
    "    return scaled_data\n"
   ]
  },
  {
   "cell_type": "markdown",
   "metadata": {},
   "source": [
    "## Edge Detecting Method"
   ]
  },
  {
   "cell_type": "code",
   "execution_count": 10,
   "metadata": {},
   "outputs": [],
   "source": [
    "#Edge detector. Use the original dataset as input (not scaled)\n",
    "# sigma_value is a float between 0 and 3. sigma_value=1 is preferred \n",
    "def detectEdges(data, sigma_value):\n",
    "    edgeDetected_data = pd.DataFrame()\n",
    "    features = np.arange(400)\n",
    "    for i in range(data.shape[0]):\n",
    "        print(\"Detecting Edge in Dataset: {}\".format(i), end=\"\\r\")\n",
    "        letter = data['Letter'].iloc[i]\n",
    "        numpy_data = data[features].iloc[i].values\n",
    "        im = numpy_data.reshape(20,20)\n",
    "        edge_im = feature.canny(im, sigma=sigma_value)\n",
    "        edge_im = edge_im.astype(float)\n",
    "        edgeDetected_data = addPictureToDataset(edgeDetected_data, edge_im, letter)\n",
    "    return edgeDetected_data\n"
   ]
  },
  {
   "cell_type": "markdown",
   "metadata": {},
   "source": [
    "## Loading the Different Datasets"
   ]
  },
  {
   "cell_type": "code",
   "execution_count": 159,
   "metadata": {},
   "outputs": [
    {
     "name": "stdout",
     "output_type": "stream",
     "text": [
      "Simply Scaling Data: 7111\r"
     ]
    }
   ],
   "source": [
    "#Divide ever number in original dataset by 255\n",
    "simple_data = simpleScale(original_raw)"
   ]
  },
  {
   "cell_type": "code",
   "execution_count": 7,
   "metadata": {},
   "outputs": [
    {
     "name": "stdout",
     "output_type": "stream",
     "text": [
      "MinMaxScaling Data: 711111\r"
     ]
    }
   ],
   "source": [
    "#Load scaled datasets:\n",
    "std_scaled_data = standardScaling(original_raw)\n",
    "min_max_data = minMaxScaling(original_raw)\n",
    "\n",
    "\n",
    "\n",
    "\n",
    "#std_scaled_data\n",
    "#min_max_data"
   ]
  },
  {
   "cell_type": "code",
   "execution_count": 121,
   "metadata": {},
   "outputs": [
    {
     "name": "stdout",
     "output_type": "stream",
     "text": [
      "MinMaxScaling Data: 2133535\r"
     ]
    }
   ],
   "source": [
    "#Load Merged Data\n",
    "mergedData_side = mergeData(original_raw, aug90)\n",
    "mergedData_side = mergeData(mergedData_side, aug270)\n",
    "\n",
    "#Scale Merged_side Data\n",
    "std_scaled_data_side = standardScaling(mergedData_side)\n",
    "min_max_data_side = minMaxScaling(mergedData_side)"
   ]
  },
  {
   "cell_type": "code",
   "execution_count": 82,
   "metadata": {
    "scrolled": true
   },
   "outputs": [
    {
     "name": "stdout",
     "output_type": "stream",
     "text": [
      "MinMaxScaling Data: 3555959\r"
     ]
    }
   ],
   "source": [
    "#Scale Merged Data\n",
    "std_scaled_merged = standardScaling(mergedData)\n",
    "min_max_data_merged = minMaxScaling(mergedData)"
   ]
  },
  {
   "cell_type": "code",
   "execution_count": 120,
   "metadata": {
    "scrolled": true
   },
   "outputs": [
    {
     "name": "stdout",
     "output_type": "stream",
     "text": [
      "Detecting Edge in Dataset: 7111\r"
     ]
    }
   ],
   "source": [
    "#Load detectedEdges dataset with sigma_value = 1\n",
    "edge_detected_data1 = detectEdges(original_raw, 1)\n",
    "\n",
    "#Load detectedEdges dataset with sigma_value = 1.5\n",
    "edge_detected_data15 = detectEdges(original_raw, 1.5)"
   ]
  },
  {
   "cell_type": "code",
   "execution_count": 181,
   "metadata": {},
   "outputs": [
    {
     "name": "stdout",
     "output_type": "stream",
     "text": [
      "Detecting Edge in Dataset: 21335\n",
      "Detecting Edge in Dataset: 21335\r"
     ]
    }
   ],
   "source": [
    "#Load detectedEdges on Merged_side with sigma_value = 1\n",
    "edge_detected_merged_side1 = detectEdges(mergedData_side, 1)\n",
    "print()\n",
    "#Load detectedEdges on Merged_side with sigma_value = 1.5\n",
    "edge_detected_merged_side15 = detectEdges(mergedData_side, 1.5)\n"
   ]
  },
  {
   "cell_type": "code",
   "execution_count": 85,
   "metadata": {},
   "outputs": [],
   "source": [
    "#Load detectedEdges on Merged with sigma_value = 1\n",
    "edge_detected_merged1 = detectEdges(mergedData, 1)\n",
    "print()\n",
    "#Load detectedEdges on Merged with sigma_value = 1.5\n",
    "edge_detected_merged15 = detectEdges(mergedData, 1.5)\n",
    "\n",
    "\n",
    "std_scaled_merged = std_scaled_data_side\n",
    "min_max_merged = min_max_data_side\n"
   ]
  },
  {
   "cell_type": "code",
   "execution_count": 72,
   "metadata": {},
   "outputs": [],
   "source": [
    "#Load training and test set of merged data\n",
    "train_org, test_org = get_train_test_set(original_raw)\n",
    "train_merge_side, test_merge_side = get_train_test_set(mergedData_side)\n",
    "train_merge, test_merge = get_train_test_set(mergedData)\n"
   ]
  },
  {
   "cell_type": "markdown",
   "metadata": {},
   "source": [
    "## KNN Model Method"
   ]
  },
  {
   "cell_type": "code",
   "execution_count": 247,
   "metadata": {},
   "outputs": [],
   "source": [
    "def calc_predictions(classifier, train):\n",
    "    y_pred = []\n",
    "    n = train.shape[0]\n",
    "    counter = 0\n",
    "    clf = classifier.fit(train.drop(labels='Letter', axis = 1), train.iloc[:,-1])\n",
    "    for row in train.drop(labels='Letter', axis = 1).iterrows():\n",
    "        y_pred.append(clf.predict([row[1].tolist()]))\n",
    "        counter +=1\n",
    "        print(\"Percent Complete: {0:f}%\".format(counter*100/n),end=\"\\r\")\n",
    "    return y_pred,clf\n",
    "\n",
    "def test_classifier(clf, data):\n",
    "    y = []\n",
    "    for row in data.drop(labels='Letter', axis = 1).iterrows():\n",
    "        y.append(clf.predict(([row[1].tolist()])))\n",
    "    return y\n",
    "\n",
    "def runKNN(dataset, n_neigh, name):\n",
    "    #Get MinMaxScaling training and test dataset:\n",
    "    train_set, test_set = get_train_test_set(dataset)\n",
    "\n",
    "    #Run kNN model\n",
    "    neigh = KNeighborsClassifier(n_neighbors=n_neigh)\n",
    "    y_train, clf = calc_predictions(neigh, train_set)\n",
    "    y_test = test_classifier(clf, test_set)\n",
    "\n",
    "    #Print Accuracy\n",
    "    print(\"KNN Accuracy Score on {0} Data with {1} Neighbours:\".format(name, n_neigh))\n",
    "    print(\"Training Set:\\t{}\".format(accuracy_score( train_set.iloc[:,-1],y_train)))\n",
    "    # Test:\n",
    "    print(\"Test Set:\\t{}\".format( accuracy_score( test_set.iloc[:,-1],y_test)))\n",
    "    return clf"
   ]
  },
  {
   "cell_type": "markdown",
   "metadata": {},
   "source": [
    "### Running KNN on Different Datasets"
   ]
  },
  {
   "cell_type": "code",
   "execution_count": 160,
   "metadata": {},
   "outputs": [
    {
     "name": "stdout",
     "output_type": "stream",
     "text": [
      "KNN Accuracy Score on SimpleScaled Data with 3 Neighbours:\n",
      "Training Set:\t0.8438380281690141\n",
      "Test Set:\t0.6822625698324022\n",
      "\n",
      "KNN Accuracy Score on SimpleScaled Data with 5 Neighbours:\n",
      "Training Set:\t0.8186619718309859\n",
      "Test Set:\t0.6899441340782123\n"
     ]
    }
   ],
   "source": [
    "#On SimpleScaled dataset\n",
    "runKNN(simple_data, 3, \"SimpleScaled\")\n",
    "print()\n",
    "runKNN(simple_data, 5, \"SimpleScaled\")"
   ]
  },
  {
   "cell_type": "code",
   "execution_count": 161,
   "metadata": {
    "scrolled": true
   },
   "outputs": [
    {
     "name": "stdout",
     "output_type": "stream",
     "text": [
      "KNN Accuracy Score on Original Data with 3 Neighbours:\n",
      "Training Set:\t0.8371478873239436\n",
      "Test Set:\t0.6899441340782123\n",
      "\n",
      "KNN Accuracy Score on original Data with 5 Neighbours:\n",
      "Training Set:\t0.8137323943661972\n",
      "Test Set:\t0.6955307262569832\n"
     ]
    }
   ],
   "source": [
    "#On the original dataset\n",
    "runKNN(original_raw, 3, \"Original\")\n",
    "print()\n",
    "runKNN(original_raw, 5, \"original\")"
   ]
  },
  {
   "cell_type": "code",
   "execution_count": 151,
   "metadata": {},
   "outputs": [
    {
     "name": "stdout",
     "output_type": "stream",
     "text": [
      "KNN Accuracy Score on StandardScaled Data with 3 Neighbours:\n",
      "Training Set:\t0.8373239436619718\n",
      "Test Set:\t0.6794692737430168\n",
      "\n",
      "KNN Accuracy Score on StandardScaled Data with 5 Neighbours:\n",
      "Training Set:\t0.8161971830985916\n",
      "Test Set:\t0.710195530726257\n"
     ]
    }
   ],
   "source": [
    "#On the StandardScaled dataset\n",
    "runKNN(std_scaled_data, 3, \"StandardScaled\")\n",
    "print()\n",
    "runKNN(std_scaled_data, 5, \"StandardScaled\")"
   ]
  },
  {
   "cell_type": "code",
   "execution_count": 152,
   "metadata": {
    "scrolled": true
   },
   "outputs": [
    {
     "name": "stdout",
     "output_type": "stream",
     "text": [
      "KNN Accuracy Score on MinMaxScaled Data with 3 Neighbours:\n",
      "Training Set:\t0.8589788732394367\n",
      "Test Set:\t0.7171787709497207\n",
      "\n",
      "KNN Accuracy Score on MinMaxScaled Data with 5 Neighbours:\n",
      "Training Set:\t0.836443661971831\n",
      "Test Set:\t0.7465083798882681\n"
     ]
    }
   ],
   "source": [
    "#On the MinMaxScaled dataset\n",
    "runKNN(min_max_data, 3, \"MinMaxScaled\")\n",
    "print()\n",
    "runKNN(min_max_data, 5, \"MinMaxScaled\")"
   ]
  },
  {
   "cell_type": "code",
   "execution_count": 156,
   "metadata": {},
   "outputs": [
    {
     "name": "stdout",
     "output_type": "stream",
     "text": [
      "KNN Accuracy Score on MinMaxScaled Data with 7 Neighbours:\n",
      "Training Set:\t0.8205985915492958\n",
      "Test Set:\t0.7255586592178771\n"
     ]
    }
   ],
   "source": [
    "runKNN(min_max_data, 7, \"MinMaxScaled\")"
   ]
  },
  {
   "cell_type": "code",
   "execution_count": 153,
   "metadata": {},
   "outputs": [
    {
     "name": "stdout",
     "output_type": "stream",
     "text": [
      "KNN Accuracy Score on EdgeDetected Sigma = 1 Data with 3 Neighbours:\n",
      "Training Set:\t0.7566901408450705\n",
      "Test Set:\t0.5370111731843575\n",
      "\n",
      "KNN Accuracy Score on EdgeDetected Sigma = 1 Data with 5 Neighbours:\n",
      "Training Set:\t0.7017605633802817\n",
      "Test Set:\t0.5600558659217877\n"
     ]
    }
   ],
   "source": [
    "#On the EdgeDetected dataset with sigma=1\n",
    "runKNN(edge_detected_data1, 3, \"EdgeDetected Sigma = 1\")\n",
    "print()\n",
    "runKNN(edge_detected_data1, 5, \"EdgeDetected Sigma = 1\")"
   ]
  },
  {
   "cell_type": "code",
   "execution_count": 154,
   "metadata": {
    "scrolled": false
   },
   "outputs": [
    {
     "name": "stdout",
     "output_type": "stream",
     "text": [
      "KNN Accuracy Score on EdgeDetected Sigma = 1.5 Data with 3 Neighbours:\n",
      "Training Set:\t0.7470070422535211\n",
      "Test Set:\t0.5677374301675978\n",
      "\n",
      "KNN Accuracy Score on EdgeDetected Sigma = 1.5 Data with 5 Neighbours:\n",
      "Training Set:\t0.6971830985915493\n",
      "Test Set:\t0.5439944134078212\n"
     ]
    }
   ],
   "source": [
    "#On the EdgeDetected dataset with sigma = 1.5\n",
    "runKNN(edge_detected_data15, 3, \"EdgeDetected Sigma = 1.5\")\n",
    "print()\n",
    "runKNN(edge_detected_data15, 5, \"EdgeDetected Sigma = 1.5\")"
   ]
  },
  {
   "cell_type": "code",
   "execution_count": 157,
   "metadata": {},
   "outputs": [
    {
     "name": "stdout",
     "output_type": "stream",
     "text": [
      "KNN Accuracy Score on Merged StandardScaled Data with 3 Neighbours:\n",
      "Training Set:\t0.829845847253971\n",
      "Test Set:\t0.6856140350877193\n",
      "\n",
      "KNN Accuracy Score on Mergedn StandardScaled Data with 5 Neighbours:\n",
      "Training Set:\t0.7903405427583378\n",
      "Test Set:\t0.6837426900584795\n"
     ]
    }
   ],
   "source": [
    "#On the Merged StandardScaled dataset\n",
    "runKNN(std_scaled_data_side, 3, \"Merged StandardScaled\")\n",
    "print()\n",
    "runKNN(std_scaled_data_side, 5, \"Mergedn StandardScaled\")"
   ]
  },
  {
   "cell_type": "code",
   "execution_count": 158,
   "metadata": {},
   "outputs": [
    {
     "name": "stdout",
     "output_type": "stream",
     "text": [
      "KNN Accuracy Score on Merged MinMaxScaled Data with 3 Neighbours:\n",
      "Training Set:\t0.8519430279585019\n",
      "Test Set:\t0.7031578947368421\n",
      "\n",
      "KNN Accuracy Score on Merged MinMaxScaled Data with 5 Neighbours:\n",
      "Training Set:\t0.8175370728562218\n",
      "Test Set:\t0.7127485380116959\n"
     ]
    }
   ],
   "source": [
    "#On the Merged_side MinMaxScaled dataset\n",
    "runKNN(min_max_data_side, 3, \"Merged MinMaxScaled\")\n",
    "print()\n",
    "runKNN(min_max_data_side, 5, \"Merged MinMaxScaled\")"
   ]
  },
  {
   "cell_type": "markdown",
   "metadata": {},
   "source": [
    "## Random Forest Method"
   ]
  },
  {
   "cell_type": "code",
   "execution_count": 44,
   "metadata": {},
   "outputs": [],
   "source": [
    "def runRandomForest(dataset, n_est, name):\n",
    "    #Get MinMaxScaling training and test dataset:\n",
    "    train_set, test_set = get_train_test_set(dataset)\n",
    "\n",
    "    #Run RF model\n",
    "    clf_rf = RandomForestClassifier(n_estimators=n_est,random_state=0)\n",
    "    y_train, clf = calc_predictions(clf_rf, train_set)\n",
    "    y_test = test_classifier(clf, test_set)\n",
    "\n",
    "    #Print Accuracy\n",
    "    print(\"RF Accuracy Score on {0} Data with {1} Estimators:\".format(name, n_est))\n",
    "    print(\"Training Set:\\t{}\".format(accuracy_score( train_set.iloc[:,-1],y_train)))\n",
    "    # Test:\n",
    "    print(\"Test Set:\\t{}\".format( accuracy_score( test_set.iloc[:,-1],y_test)))\n",
    "    return"
   ]
  },
  {
   "cell_type": "markdown",
   "metadata": {},
   "source": [
    "### Running RF on Different Datasets"
   ]
  },
  {
   "cell_type": "code",
   "execution_count": 171,
   "metadata": {
    "scrolled": false
   },
   "outputs": [
    {
     "name": "stdout",
     "output_type": "stream",
     "text": [
      "RF Accuracy Score on Original Data with 20 Estimators:\n",
      "Training Set:\t0.9994718309859155\n",
      "Test Set:\t0.6284916201117319\n",
      "\n",
      "RF Accuracy Score on SimpleScale Data with 20 Estimators:\n",
      "Training Set:\t0.9994718309859155\n",
      "Test Set:\t0.6166201117318436\n",
      "\n",
      "RF Accuracy Score on StandardScaled Data with 20 Estimators:\n",
      "Training Set:\t1.0\n",
      "Test Set:\t0.6396648044692738\n",
      "\n",
      "RF Accuracy Score on MinMaxScaled Data with 20 Estimators:\n",
      "Training Set:\t1.0\n",
      "Test Set:\t0.6263966480446927\n",
      "\n",
      "RF Accuracy Score on EdgeDetected Sigma = 1 Data with 20 Estimators:\n",
      "Training Set:\t1.0\n",
      "Test Set:\t0.4895251396648045\n",
      "\n",
      "RF Accuracy Score on EdgeDetected Sigma = 1.5 Data with 20 Estimators:\n",
      "Training Set:\t1.0\n",
      "Test Set:\t0.5174581005586593\n"
     ]
    }
   ],
   "source": [
    "#On the original dataset\n",
    "runRandomForest(original_raw, 20, \"Original\")\n",
    "print()\n",
    "runRandomForest(simple_data, 20, \"SimpleScale\")\n",
    "print()\n",
    "#On the StandardScaled dataset\n",
    "runRandomForest(std_scaled_data, 20, \"StandardScaled\")\n",
    "print()\n",
    "#On the MinMaxScaled dataset\n",
    "runRandomForest(min_max_data, 20, \"MinMaxScaled\")\n",
    "print()\n",
    "#On the EdgeDetected dataset with sigma=1\n",
    "runRandomForest(edge_detected_data1, 20, \"EdgeDetected Sigma = 1\")\n",
    "print()\n",
    "#On the EdgeDetected dataset with sigma=1\n",
    "runRandomForest(edge_detected_data15, 20, \"EdgeDetected Sigma = 1.5\")"
   ]
  },
  {
   "cell_type": "code",
   "execution_count": 183,
   "metadata": {},
   "outputs": [
    {
     "name": "stdout",
     "output_type": "stream",
     "text": [
      "RF Accuracy Score on Original Data with 200 Estimators:\n",
      "Training Set:\t1.0\n",
      "Test Set:\t0.6962290502793296\n"
     ]
    }
   ],
   "source": [
    "#On the original dataset\n",
    "runRandomForest(original_raw, 200, \"Original\")"
   ]
  },
  {
   "cell_type": "code",
   "execution_count": 184,
   "metadata": {},
   "outputs": [
    {
     "name": "stdout",
     "output_type": "stream",
     "text": [
      "RF Accuracy Score on StandardScaled Data with 200 Estimators:\n",
      "Training Set:\t1.0\n",
      "Test Set:\t0.7011173184357542\n"
     ]
    }
   ],
   "source": [
    "#On the StandardScaled dataset\n",
    "runRandomForest(std_scaled_data, 200, \"StandardScaled\")"
   ]
  },
  {
   "cell_type": "code",
   "execution_count": 185,
   "metadata": {},
   "outputs": [
    {
     "name": "stdout",
     "output_type": "stream",
     "text": [
      "RF Accuracy Score on MinMaxScaled Data with 200 Estimators:\n",
      "Training Set:\t1.0\n",
      "Test Set:\t0.6836592178770949\n"
     ]
    }
   ],
   "source": [
    "#On the MinMaxScaled dataset\n",
    "runRandomForest(min_max_data, 200, \"MinMaxScaled\")"
   ]
  },
  {
   "cell_type": "code",
   "execution_count": 186,
   "metadata": {
    "scrolled": true
   },
   "outputs": [
    {
     "name": "stdout",
     "output_type": "stream",
     "text": [
      "RF Accuracy Score on EdgeDetected Sigma = 1 Data with 200 Estimators:\n",
      "Training Set:\t1.0\n",
      "Test Set:\t0.6019553072625698\n"
     ]
    }
   ],
   "source": [
    "#On the EdgeDetected dataset with sigma=1\n",
    "runRandomForest(edge_detected_data1, 200, \"EdgeDetected Sigma = 1\")"
   ]
  },
  {
   "cell_type": "code",
   "execution_count": 187,
   "metadata": {},
   "outputs": [
    {
     "name": "stdout",
     "output_type": "stream",
     "text": [
      "RF Accuracy Score on EdgeDetected Sigma = 1.5 Data with 200 Estimators:\n",
      "Training Set:\t1.0\n",
      "Test Set:\t0.6026536312849162\n"
     ]
    }
   ],
   "source": [
    "#On the EdgeDetected dataset with sigma=1\n",
    "runRandomForest(edge_detected_data15, 200, \"EdgeDetected Sigma = 1.5\")"
   ]
  },
  {
   "cell_type": "code",
   "execution_count": 177,
   "metadata": {},
   "outputs": [
    {
     "name": "stdout",
     "output_type": "stream",
     "text": [
      "RF Accuracy Score on Original Data with 500 Estimators:\n",
      "Training Set:\t1.0\n",
      "Test Set:\t0.7087988826815642\n",
      "\n",
      "RF Accuracy Score on StandardScaled Data with 500 Estimators:\n",
      "Training Set:\t1.0\n",
      "Test Set:\t0.7136871508379888\n",
      "\n",
      "RF Accuracy Score on MinMaxScaled Data with 500 Estimators:\n",
      "Training Set:\t1.0\n",
      "Test Set:\t0.6913407821229051\n"
     ]
    }
   ],
   "source": [
    "#On the original dataset\n",
    "runRandomForest(original_raw, 500, \"Original\")\n",
    "print()\n",
    "#On the StandardScaled dataset\n",
    "runRandomForest(std_scaled_data, 500, \"StandardScaled\")\n",
    "print()\n",
    "#On the MinMaxScaled dataset\n",
    "runRandomForest(min_max_data, 500, \"MinMaxScaled\")\n"
   ]
  },
  {
   "cell_type": "markdown",
   "metadata": {},
   "source": [
    "# Tensorflow"
   ]
  },
  {
   "cell_type": "code",
   "execution_count": 124,
   "metadata": {},
   "outputs": [],
   "source": [
    "import tensorflow as tf\n",
    "import gzip\n",
    "import pickle\n",
    "\n",
    "def DNN(train_X,train_Y,test_X,test_y, ep, nodes):\n",
    "    # Scale data (normalization), easier for network to learn:\n",
    "    # plt.imshow(train_X[0])\n",
    "    # plt.show\n",
    "    train_X = tf.keras.utils.normalize(train_X,axis=1)\n",
    "    test_X = tf.keras.utils.normalize(test_X,axis=1)\n",
    "\n",
    "    model = tf.keras.models.Sequential()\n",
    "    model.add(tf.keras.layers.Flatten())\n",
    "    model.add(tf.keras.layers.Dense(nodes, activation = tf.nn.relu )) \n",
    "    model.add(tf.keras.layers.Dense(nodes, activation = tf.nn.relu )) \n",
    "    model.add(tf.keras.layers.Dense(26, activation = tf.nn.softmax ))\n",
    "\n",
    "    model.compile(optimizer ='adam',\n",
    "                 loss='sparse_categorical_crossentropy',metrics=['accuracy'])\n",
    "\n",
    "    # train:\n",
    "    model.fit(train_X, train_Y, epochs = ep)\n",
    "    loss, accuracy = evaluate_model(model,test_X,test_y)\n",
    "    return loss, accuracy\n",
    "\n",
    "\n",
    "# Helper function trained model:\n",
    "def evaluate_model(model,test_X,test_y):\n",
    "    val_loss, val_acc = model.evaluate(test_X, test_y)\n",
    "    return val_loss, val_acc\n",
    "\n",
    "\n",
    "# train and test are dataframes (with the labels in the last column for both)\n",
    "def transform_data_for_tensorflow_and_run(train,test, ep, nodes):\n",
    "    trainx = (train.drop(labels='Letter', axis = 1)).values\n",
    "    trainy = np.array(train['Letter'].tolist())\n",
    "    \n",
    "    testx = (test.drop(labels='Letter', axis = 1)).values\n",
    "    testy = np.array(test['Letter'].tolist())\n",
    "    loss, accuracy = DNN(trainx,trainy,testx,testy, ep, nodes)\n",
    "    \n",
    "    return loss, accuracy\n"
   ]
  },
  {
   "cell_type": "markdown",
   "metadata": {},
   "source": [
    "### Running DNN on Datasets"
   ]
  },
  {
   "cell_type": "code",
   "execution_count": 136,
   "metadata": {},
   "outputs": [],
   "source": [
    "def runDNN(dataset, name, ep, nodes):\n",
    "    train, test = get_train_test_set(dataset)\n",
    "    loss, acc = transform_data_for_tensorflow_and_run(train,test, ep, nodes)\n",
    "    \n",
    "    #Print Accuracy\n",
    "    print(\"\\nDNN Accuracy Score on {0} with {1} Epochs and {2} Nodes:\".format(name, ep, nodes))\n",
    "    print(\"Loss:\\t\\t{0}\".format(loss))\n",
    "    # Test:\n",
    "    print(\"Accuracy:\\t{0}\\n\".format(acc))\n",
    "    return"
   ]
  },
  {
   "cell_type": "code",
   "execution_count": 135,
   "metadata": {
    "scrolled": true
   },
   "outputs": [
    {
     "name": "stdout",
     "output_type": "stream",
     "text": [
      "Epoch 1/35\n",
      "5680/5680 [==============================] - 2s 300us/sample - loss: 2.9542 - acc: 0.1577\n",
      "Epoch 2/35\n",
      "5680/5680 [==============================] - 1s 147us/sample - loss: 2.2008 - acc: 0.4044\n",
      "Epoch 3/35\n",
      "5680/5680 [==============================] - 1s 148us/sample - loss: 1.6774 - acc: 0.5016\n",
      "Epoch 4/35\n",
      "5680/5680 [==============================] - 1s 153us/sample - loss: 1.4048 - acc: 0.5961\n",
      "Epoch 5/35\n",
      "5680/5680 [==============================] - 1s 147us/sample - loss: 1.2170 - acc: 0.6556\n",
      "Epoch 6/35\n",
      "5680/5680 [==============================] - 1s 148us/sample - loss: 1.0827 - acc: 0.6933\n",
      "Epoch 7/35\n",
      "5680/5680 [==============================] - 1s 147us/sample - loss: 0.9847 - acc: 0.7174\n",
      "Epoch 8/35\n",
      "5680/5680 [==============================] - 1s 146us/sample - loss: 0.8955 - acc: 0.7460\n",
      "Epoch 9/35\n",
      "5680/5680 [==============================] - 1s 156us/sample - loss: 0.8208 - acc: 0.7657\n",
      "Epoch 10/35\n",
      "5680/5680 [==============================] - 1s 160us/sample - loss: 0.7549 - acc: 0.7863\n",
      "Epoch 11/35\n",
      "5680/5680 [==============================] - 1s 147us/sample - loss: 0.6847 - acc: 0.8046\n",
      "Epoch 12/35\n",
      "5680/5680 [==============================] - 1s 148us/sample - loss: 0.6430 - acc: 0.8194\n",
      "Epoch 13/35\n",
      "5680/5680 [==============================] - 1s 151us/sample - loss: 0.5971 - acc: 0.8269\n",
      "Epoch 14/35\n",
      "5680/5680 [==============================] - 1s 155us/sample - loss: 0.5475 - acc: 0.8519\n",
      "Epoch 15/35\n",
      "5680/5680 [==============================] - 1s 149us/sample - loss: 0.5053 - acc: 0.8586\n",
      "Epoch 16/35\n",
      "5680/5680 [==============================] - 1s 149us/sample - loss: 0.4737 - acc: 0.8720\n",
      "Epoch 17/35\n",
      "5680/5680 [==============================] - 1s 155us/sample - loss: 0.4327 - acc: 0.8764\n",
      "Epoch 18/35\n",
      "5680/5680 [==============================] - 1s 156us/sample - loss: 0.4062 - acc: 0.8857\n",
      "Epoch 19/35\n",
      "5680/5680 [==============================] - 1s 155us/sample - loss: 0.3752 - acc: 0.8993\n",
      "Epoch 20/35\n",
      "5680/5680 [==============================] - 1s 155us/sample - loss: 0.3475 - acc: 0.9111\n",
      "Epoch 21/35\n",
      "5680/5680 [==============================] - 1s 158us/sample - loss: 0.3230 - acc: 0.9194\n",
      "Epoch 22/35\n",
      "5680/5680 [==============================] - 1s 150us/sample - loss: 0.2929 - acc: 0.9239\n",
      "Epoch 23/35\n",
      "5680/5680 [==============================] - 1s 148us/sample - loss: 0.2767 - acc: 0.9257\n",
      "Epoch 24/35\n",
      "5680/5680 [==============================] - 1s 151us/sample - loss: 0.2534 - acc: 0.9366\n",
      "Epoch 25/35\n",
      "5680/5680 [==============================] - 1s 155us/sample - loss: 0.2314 - acc: 0.9435\n",
      "Epoch 26/35\n",
      "5680/5680 [==============================] - 1s 149us/sample - loss: 0.2201 - acc: 0.9452\n",
      "Epoch 27/35\n",
      "5680/5680 [==============================] - 1s 148us/sample - loss: 0.2033 - acc: 0.9518\n",
      "Epoch 28/35\n",
      "5680/5680 [==============================] - 1s 151us/sample - loss: 0.1851 - acc: 0.9572\n",
      "Epoch 29/35\n",
      "5680/5680 [==============================] - 1s 151us/sample - loss: 0.1820 - acc: 0.9549\n",
      "Epoch 30/35\n",
      "5680/5680 [==============================] - 1s 149us/sample - loss: 0.1576 - acc: 0.9616\n",
      "Epoch 31/35\n",
      "5680/5680 [==============================] - 1s 147us/sample - loss: 0.1397 - acc: 0.9722\n",
      "Epoch 32/35\n",
      "5680/5680 [==============================] - 1s 148us/sample - loss: 0.1315 - acc: 0.9717\n",
      "Epoch 33/35\n",
      "5680/5680 [==============================] - 1s 146us/sample - loss: 0.1207 - acc: 0.9741\n",
      "Epoch 34/35\n",
      "5680/5680 [==============================] - 1s 149us/sample - loss: 0.1140 - acc: 0.9773\n",
      "Epoch 35/35\n",
      "5680/5680 [==============================] - 1s 149us/sample - loss: 0.1061 - acc: 0.9764\n",
      "1432/1432 [==============================] - 1s 623us/sample - loss: 0.9145 - acc: 0.8010\n",
      "\n",
      "DNN Accuracy Score on Original Data with 35 Epochs and 267 Nodes:\n",
      "Loss:\t0.914479451722273\n",
      "Accuracy:\t0.8009776473045349\n",
      "\n",
      "Epoch 1/35\n",
      "5680/5680 [==============================] - 2s 302us/sample - loss: 2.5839 - acc: 0.2859\n",
      "Epoch 2/35\n",
      "5680/5680 [==============================] - 1s 149us/sample - loss: 1.5260 - acc: 0.5755\n",
      "Epoch 3/35\n",
      "5680/5680 [==============================] - 1s 153us/sample - loss: 1.0734 - acc: 0.7014\n",
      "Epoch 4/35\n",
      "5680/5680 [==============================] - 1s 150us/sample - loss: 0.8171 - acc: 0.7792\n",
      "Epoch 5/35\n",
      "5680/5680 [==============================] - 1s 147us/sample - loss: 0.6357 - acc: 0.8275\n",
      "Epoch 6/35\n",
      "5680/5680 [==============================] - 1s 149us/sample - loss: 0.5029 - acc: 0.8637\n",
      "Epoch 7/35\n",
      "5680/5680 [==============================] - 1s 149us/sample - loss: 0.3928 - acc: 0.9018\n",
      "Epoch 8/35\n",
      "5680/5680 [==============================] - 1s 151us/sample - loss: 0.2908 - acc: 0.9343\n",
      "Epoch 9/35\n",
      "5680/5680 [==============================] - 1s 148us/sample - loss: 0.2196 - acc: 0.9569\n",
      "Epoch 10/35\n",
      "5680/5680 [==============================] - 1s 153us/sample - loss: 0.1642 - acc: 0.9729\n",
      "Epoch 11/35\n",
      "5680/5680 [==============================] - 1s 153us/sample - loss: 0.1190 - acc: 0.9813\n",
      "Epoch 12/35\n",
      "5680/5680 [==============================] - 1s 156us/sample - loss: 0.0871 - acc: 0.9900\n",
      "Epoch 13/35\n",
      "5680/5680 [==============================] - 1s 151us/sample - loss: 0.0666 - acc: 0.9931\n",
      "Epoch 14/35\n",
      "5680/5680 [==============================] - 1s 156us/sample - loss: 0.0455 - acc: 0.9970\n",
      "Epoch 15/35\n",
      "5680/5680 [==============================] - 1s 155us/sample - loss: 0.0335 - acc: 0.9979\n",
      "Epoch 16/35\n",
      "5680/5680 [==============================] - 1s 174us/sample - loss: 0.0259 - acc: 0.9993\n",
      "Epoch 17/35\n",
      "5680/5680 [==============================] - 1s 170us/sample - loss: 0.0182 - acc: 0.9998\n",
      "Epoch 18/35\n",
      "5680/5680 [==============================] - 1s 159us/sample - loss: 0.0147 - acc: 1.0000\n",
      "Epoch 19/35\n",
      "5680/5680 [==============================] - 1s 151us/sample - loss: 0.0119 - acc: 1.0000\n",
      "Epoch 20/35\n",
      "5680/5680 [==============================] - 1s 160us/sample - loss: 0.0099 - acc: 0.9998\n",
      "Epoch 21/35\n",
      "5680/5680 [==============================] - 1s 153us/sample - loss: 0.0080 - acc: 1.0000\n",
      "Epoch 22/35\n",
      "5680/5680 [==============================] - 1s 159us/sample - loss: 0.0066 - acc: 1.0000\n",
      "Epoch 23/35\n",
      "5680/5680 [==============================] - 1s 159us/sample - loss: 0.0056 - acc: 1.0000\n",
      "Epoch 24/35\n",
      "5680/5680 [==============================] - 1s 157us/sample - loss: 0.0048 - acc: 1.0000\n",
      "Epoch 25/35\n",
      "5680/5680 [==============================] - 1s 146us/sample - loss: 0.0041 - acc: 1.0000\n",
      "Epoch 26/35\n",
      "5680/5680 [==============================] - 1s 147us/sample - loss: 0.0035 - acc: 1.0000\n",
      "Epoch 27/35\n",
      "5680/5680 [==============================] - 1s 156us/sample - loss: 0.0030 - acc: 1.0000\n",
      "Epoch 28/35\n",
      "5680/5680 [==============================] - 1s 158us/sample - loss: 0.0026 - acc: 1.0000\n",
      "Epoch 29/35\n",
      "5680/5680 [==============================] - 1s 155us/sample - loss: 0.0023 - acc: 1.0000\n",
      "Epoch 30/35\n",
      "5680/5680 [==============================] - 1s 155us/sample - loss: 0.0020 - acc: 1.0000\n",
      "Epoch 31/35\n",
      "5680/5680 [==============================] - 1s 152us/sample - loss: 0.0018 - acc: 1.0000\n",
      "Epoch 32/35\n",
      "5680/5680 [==============================] - 1s 156us/sample - loss: 0.0016 - acc: 1.0000\n",
      "Epoch 33/35\n",
      "5680/5680 [==============================] - 1s 152us/sample - loss: 0.0014 - acc: 1.0000\n",
      "Epoch 34/35\n",
      "5680/5680 [==============================] - 1s 154us/sample - loss: 0.0012 - acc: 1.0000\n",
      "Epoch 35/35\n",
      "5680/5680 [==============================] - 1s 152us/sample - loss: 0.0011 - acc: 1.0000\n",
      "1432/1432 [==============================] - 1s 650us/sample - loss: 1.3408 - acc: 0.7807\n",
      "\n",
      "DNN Accuracy Score on StandardScaled Original Data with 35 Epochs and 267 Nodes:\n",
      "Loss:\t1.3408028466741466\n",
      "Accuracy:\t0.7807262539863586\n",
      "\n",
      "Epoch 1/35\n",
      "5680/5680 [==============================] - 2s 312us/sample - loss: 2.9463 - acc: 0.1620\n",
      "Epoch 2/35\n",
      "5680/5680 [==============================] - 1s 151us/sample - loss: 2.1424 - acc: 0.3968\n",
      "Epoch 3/35\n",
      "5680/5680 [==============================] - 1s 154us/sample - loss: 1.6061 - acc: 0.5306\n",
      "Epoch 4/35\n",
      "5680/5680 [==============================] - 1s 149us/sample - loss: 1.3171 - acc: 0.6317\n",
      "Epoch 5/35\n",
      "5680/5680 [==============================] - 1s 150us/sample - loss: 1.1304 - acc: 0.6813\n",
      "Epoch 6/35\n",
      "5680/5680 [==============================] - 1s 155us/sample - loss: 0.9946 - acc: 0.7243\n",
      "Epoch 7/35\n",
      "5680/5680 [==============================] - 1s 150us/sample - loss: 0.8867 - acc: 0.7500\n",
      "Epoch 8/35\n",
      "5680/5680 [==============================] - 1s 148us/sample - loss: 0.7941 - acc: 0.7790\n",
      "Epoch 9/35\n",
      "5680/5680 [==============================] - 1s 151us/sample - loss: 0.7206 - acc: 0.8030\n",
      "Epoch 10/35\n",
      "5680/5680 [==============================] - 1s 149us/sample - loss: 0.6487 - acc: 0.8173\n",
      "Epoch 11/35\n",
      "5680/5680 [==============================] - 1s 152us/sample - loss: 0.5911 - acc: 0.8368\n",
      "Epoch 12/35\n",
      "5680/5680 [==============================] - 1s 157us/sample - loss: 0.5318 - acc: 0.8514\n",
      "Epoch 13/35\n",
      "5680/5680 [==============================] - 1s 155us/sample - loss: 0.4864 - acc: 0.8637\n",
      "Epoch 14/35\n",
      "5680/5680 [==============================] - 1s 147us/sample - loss: 0.4425 - acc: 0.8768\n",
      "Epoch 15/35\n",
      "5680/5680 [==============================] - 1s 153us/sample - loss: 0.3924 - acc: 0.8912\n",
      "Epoch 16/35\n",
      "5680/5680 [==============================] - 1s 149us/sample - loss: 0.3605 - acc: 0.9011\n",
      "Epoch 17/35\n",
      "5680/5680 [==============================] - 1s 154us/sample - loss: 0.3189 - acc: 0.9157\n",
      "Epoch 18/35\n",
      "5680/5680 [==============================] - 1s 154us/sample - loss: 0.2890 - acc: 0.9262\n",
      "Epoch 19/35\n",
      "5680/5680 [==============================] - 1s 153us/sample - loss: 0.2555 - acc: 0.9354\n",
      "Epoch 20/35\n",
      "5680/5680 [==============================] - 1s 152us/sample - loss: 0.2269 - acc: 0.9440\n",
      "Epoch 21/35\n",
      "5680/5680 [==============================] - 1s 155us/sample - loss: 0.2072 - acc: 0.9514\n",
      "Epoch 22/35\n",
      "5680/5680 [==============================] - 1s 159us/sample - loss: 0.1765 - acc: 0.9618\n",
      "Epoch 23/35\n",
      "5680/5680 [==============================] - 1s 161us/sample - loss: 0.1602 - acc: 0.9658\n",
      "Epoch 24/35\n",
      "5680/5680 [==============================] - 1s 159us/sample - loss: 0.1443 - acc: 0.9664\n",
      "Epoch 25/35\n",
      "5680/5680 [==============================] - 1s 150us/sample - loss: 0.1224 - acc: 0.9769\n",
      "Epoch 26/35\n",
      "5680/5680 [==============================] - 1s 150us/sample - loss: 0.1039 - acc: 0.9799\n",
      "Epoch 27/35\n",
      "5680/5680 [==============================] - 1s 150us/sample - loss: 0.0905 - acc: 0.9854\n",
      "Epoch 28/35\n",
      "5680/5680 [==============================] - 1s 150us/sample - loss: 0.0858 - acc: 0.9868\n",
      "Epoch 29/35\n",
      "5680/5680 [==============================] - 1s 149us/sample - loss: 0.0718 - acc: 0.9901\n",
      "Epoch 30/35\n",
      "5680/5680 [==============================] - 1s 149us/sample - loss: 0.0601 - acc: 0.9923\n",
      "Epoch 31/35\n",
      "5680/5680 [==============================] - 1s 160us/sample - loss: 0.0539 - acc: 0.9930\n",
      "Epoch 32/35\n",
      "5680/5680 [==============================] - 1s 151us/sample - loss: 0.0476 - acc: 0.9945\n",
      "Epoch 33/35\n",
      "5680/5680 [==============================] - 1s 149us/sample - loss: 0.0498 - acc: 0.9937\n",
      "Epoch 34/35\n",
      "5680/5680 [==============================] - 1s 148us/sample - loss: 0.0353 - acc: 0.9974\n",
      "Epoch 35/35\n",
      "5680/5680 [==============================] - 1s 148us/sample - loss: 0.0469 - acc: 0.9914\n",
      "1432/1432 [==============================] - 1s 644us/sample - loss: 1.2296 - acc: 0.7668\n",
      "\n",
      "DNN Accuracy Score on MinMaxScaled Original Data with 35 Epochs and 267 Nodes:\n",
      "Loss:\t1.2295529452782104\n",
      "Accuracy:\t0.7667597532272339\n",
      "\n"
     ]
    }
   ],
   "source": [
    "runDNN(original_raw, \"Original Data\", 35, 267)\n",
    "runDNN(std_scaled_data, \"StandardScaled Original Data\", 35, 267)\n",
    "runDNN(min_max_data, \"MinMaxScaled Original Data\", 35, 267)"
   ]
  },
  {
   "cell_type": "code",
   "execution_count": 162,
   "metadata": {},
   "outputs": [
    {
     "name": "stdout",
     "output_type": "stream",
     "text": [
      "Epoch 1/15\n",
      "5680/5680 [==============================] - 3s 480us/sample - loss: 2.7665 - acc: 0.2222\n",
      "Epoch 2/15\n",
      "5680/5680 [==============================] - 2s 320us/sample - loss: 1.7834 - acc: 0.4842\n",
      "Epoch 3/15\n",
      "5680/5680 [==============================] - 2s 334us/sample - loss: 1.3474 - acc: 0.6111\n",
      "Epoch 4/15\n",
      "5680/5680 [==============================] - 2s 345us/sample - loss: 1.1053 - acc: 0.6854\n",
      "Epoch 5/15\n",
      "5680/5680 [==============================] - 2s 326us/sample - loss: 0.9295 - acc: 0.7320\n",
      "Epoch 6/15\n",
      "5680/5680 [==============================] - 2s 320us/sample - loss: 0.7962 - acc: 0.7692\n",
      "Epoch 7/15\n",
      "5680/5680 [==============================] - 2s 336us/sample - loss: 0.6954 - acc: 0.8007\n",
      "Epoch 8/15\n",
      "5680/5680 [==============================] - 2s 331us/sample - loss: 0.6039 - acc: 0.8312\n",
      "Epoch 9/15\n",
      "5680/5680 [==============================] - 2s 331us/sample - loss: 0.5276 - acc: 0.8516\n",
      "Epoch 10/15\n",
      "5680/5680 [==============================] - 2s 330us/sample - loss: 0.4699 - acc: 0.8702\n",
      "Epoch 11/15\n",
      "5680/5680 [==============================] - 2s 355us/sample - loss: 0.4142 - acc: 0.8806\n",
      "Epoch 12/15\n",
      "5680/5680 [==============================] - 2s 332us/sample - loss: 0.3601 - acc: 0.9030\n",
      "Epoch 13/15\n",
      "5680/5680 [==============================] - 2s 340us/sample - loss: 0.3261 - acc: 0.9069\n",
      "Epoch 14/15\n",
      "5680/5680 [==============================] - 2s 329us/sample - loss: 0.2742 - acc: 0.9248\n",
      "Epoch 15/15\n",
      "5680/5680 [==============================] - 2s 316us/sample - loss: 0.2536 - acc: 0.9303\n",
      "1432/1432 [==============================] - 1s 737us/sample - loss: 0.7800 - acc: 0.7926\n",
      "\n",
      "DNN Accuracy Score on Original Data with 15 Epochs and 651 Nodes:\n",
      "Loss:\t\t0.7799850740579254\n",
      "Accuracy:\t0.792597770690918\n",
      "\n",
      "Epoch 1/15\n",
      "5680/5680 [==============================] - 3s 535us/sample - loss: 2.2604 - acc: 0.3761\n",
      "Epoch 2/15\n",
      "5680/5680 [==============================] - 2s 350us/sample - loss: 1.1681 - acc: 0.6741\n",
      "Epoch 3/15\n",
      "5680/5680 [==============================] - 2s 304us/sample - loss: 0.7470 - acc: 0.7923\n",
      "Epoch 4/15\n",
      "5680/5680 [==============================] - 2s 360us/sample - loss: 0.5076 - acc: 0.8616\n",
      "Epoch 5/15\n",
      "5680/5680 [==============================] - 2s 348us/sample - loss: 0.3254 - acc: 0.9144\n",
      "Epoch 6/15\n",
      "5680/5680 [==============================] - 2s 342us/sample - loss: 0.2002 - acc: 0.9521\n",
      "Epoch 7/15\n",
      "5680/5680 [==============================] - 2s 334us/sample - loss: 0.1130 - acc: 0.9794\n",
      "Epoch 8/15\n",
      "5680/5680 [==============================] - 2s 343us/sample - loss: 0.0658 - acc: 0.9926\n",
      "Epoch 9/15\n",
      "5680/5680 [==============================] - 2s 387us/sample - loss: 0.0423 - acc: 0.9931\n",
      "Epoch 10/15\n",
      "5680/5680 [==============================] - 2s 330us/sample - loss: 0.0241 - acc: 0.9982\n",
      "Epoch 11/15\n",
      "5680/5680 [==============================] - 2s 396us/sample - loss: 0.0165 - acc: 0.9982\n",
      "Epoch 12/15\n",
      "5680/5680 [==============================] - 2s 367us/sample - loss: 0.0085 - acc: 1.0000\n",
      "Epoch 13/15\n",
      "5680/5680 [==============================] - 2s 355us/sample - loss: 0.0056 - acc: 1.0000\n",
      "Epoch 14/15\n",
      "5680/5680 [==============================] - 2s 341us/sample - loss: 0.0045 - acc: 1.0000\n",
      "Epoch 15/15\n",
      "5680/5680 [==============================] - 2s 384us/sample - loss: 0.0038 - acc: 1.0000\n",
      "1432/1432 [==============================] - 1s 808us/sample - loss: 1.0948 - acc: 0.7703\n",
      "\n",
      "DNN Accuracy Score on StandardScaled Original Data with 15 Epochs and 651 Nodes:\n",
      "Loss:\t\t1.0947872936392629\n",
      "Accuracy:\t0.7702513933181763\n",
      "\n",
      "Epoch 1/15\n",
      "5680/5680 [==============================] - 3s 528us/sample - loss: 2.7544 - acc: 0.2255\n",
      "Epoch 2/15\n",
      "5680/5680 [==============================] - 2s 332us/sample - loss: 1.7298 - acc: 0.4991\n",
      "Epoch 3/15\n",
      "5680/5680 [==============================] - 2s 316us/sample - loss: 1.2582 - acc: 0.6403\n",
      "Epoch 4/15\n",
      "5680/5680 [==============================] - 2s 338us/sample - loss: 0.9999 - acc: 0.7187\n",
      "Epoch 5/15\n",
      "5680/5680 [==============================] - 2s 317us/sample - loss: 0.8284 - acc: 0.7616\n",
      "Epoch 6/15\n",
      "5680/5680 [==============================] - 2s 329us/sample - loss: 0.7121 - acc: 0.7958\n",
      "Epoch 7/15\n",
      "5680/5680 [==============================] - 2s 355us/sample - loss: 0.5935 - acc: 0.8290\n",
      "Epoch 8/15\n",
      "5680/5680 [==============================] - 2s 376us/sample - loss: 0.5143 - acc: 0.8512\n",
      "Epoch 9/15\n",
      "5680/5680 [==============================] - 2s 369us/sample - loss: 0.4381 - acc: 0.8759\n",
      "Epoch 10/15\n",
      "5680/5680 [==============================] - 2s 375us/sample - loss: 0.3585 - acc: 0.8996\n",
      "Epoch 11/15\n",
      "5680/5680 [==============================] - 2s 352us/sample - loss: 0.3021 - acc: 0.9162\n",
      "Epoch 12/15\n",
      "5680/5680 [==============================] - 2s 348us/sample - loss: 0.2688 - acc: 0.9306\n",
      "Epoch 13/15\n",
      "5680/5680 [==============================] - 2s 359us/sample - loss: 0.2086 - acc: 0.9444\n",
      "Epoch 14/15\n",
      "5680/5680 [==============================] - 2s 348us/sample - loss: 0.1804 - acc: 0.9518\n",
      "Epoch 15/15\n",
      "5680/5680 [==============================] - 2s 382us/sample - loss: 0.1438 - acc: 0.9630\n",
      "1432/1432 [==============================] - 1s 719us/sample - loss: 1.0549 - acc: 0.7563\n",
      "\n",
      "DNN Accuracy Score on MinMaxScaled Original Data with 15 Epochs and 651 Nodes:\n",
      "Loss:\t\t1.0549147348830155\n",
      "Accuracy:\t0.7562848925590515\n",
      "\n"
     ]
    }
   ],
   "source": [
    "runDNN(original_raw, \"Original Data\", 15, 651)\n",
    "runDNN(std_scaled_data, \"StandardScaled Original Data\", 15, 651)\n",
    "runDNN(min_max_data, \"MinMaxScaled Original Data\", 15, 651)"
   ]
  },
  {
   "cell_type": "code",
   "execution_count": 180,
   "metadata": {
    "scrolled": true
   },
   "outputs": [
    {
     "name": "stdout",
     "output_type": "stream",
     "text": [
      "Epoch 1/3\n",
      "5680/5680 [==============================] - 2s 344us/sample - loss: 3.0276 - acc: 0.1227\n",
      "Epoch 2/3\n",
      "5680/5680 [==============================] - 1s 157us/sample - loss: 2.5424 - acc: 0.3095\n",
      "Epoch 3/3\n",
      "5680/5680 [==============================] - 1s 166us/sample - loss: 2.0255 - acc: 0.4268\n",
      "1432/1432 [==============================] - 1s 814us/sample - loss: 1.8810 - acc: 0.4672\n",
      "\n",
      "DNN Accuracy Score on Original Data with 3 Epochs and 128 Nodes:\n",
      "Loss:\t\t1.8809761401661282\n",
      "Accuracy:\t0.4671787619590759\n",
      "\n",
      "Epoch 1/3\n",
      "5680/5680 [==============================] - 2s 339us/sample - loss: 2.7646 - acc: 0.2486\n",
      "Epoch 2/3\n",
      "5680/5680 [==============================] - 1s 154us/sample - loss: 1.8570 - acc: 0.4903\n",
      "Epoch 3/3\n",
      "5680/5680 [==============================] - 1s 146us/sample - loss: 1.3827 - acc: 0.6151\n",
      "1432/1432 [==============================] - 1s 796us/sample - loss: 1.3960 - acc: 0.6264\n",
      "\n",
      "DNN Accuracy Score on StandardScaled Original Data with 3 Epochs and 128 Nodes:\n",
      "Loss:\t\t1.396045427748611\n",
      "Accuracy:\t0.626396656036377\n",
      "\n",
      "Epoch 1/3\n",
      "5680/5680 [==============================] - 2s 340us/sample - loss: 3.0389 - acc: 0.1199\n",
      "Epoch 2/3\n",
      "5680/5680 [==============================] - 1s 156us/sample - loss: 2.6137 - acc: 0.2919\n",
      "Epoch 3/3\n",
      "5680/5680 [==============================] - 1s 170us/sample - loss: 2.0421 - acc: 0.4199\n",
      "1432/1432 [==============================] - 1s 789us/sample - loss: 1.9125 - acc: 0.4378\n",
      "\n",
      "DNN Accuracy Score on MinMaxScaled Original Data with 3 Epochs and 128 Nodes:\n",
      "Loss:\t\t1.912538583052225\n",
      "Accuracy:\t0.43784916400909424\n",
      "\n",
      "Epoch 1/3\n",
      "5680/5680 [==============================] - 2s 380us/sample - loss: 2.9028 - acc: 0.1838\n",
      "Epoch 2/3\n",
      "5680/5680 [==============================] - 1s 151us/sample - loss: 2.2489 - acc: 0.3850\n",
      "Epoch 3/3\n",
      "5680/5680 [==============================] - 1s 151us/sample - loss: 1.8650 - acc: 0.4852\n",
      "1432/1432 [==============================] - 1s 791us/sample - loss: 1.9172 - acc: 0.4797\n",
      "\n",
      "DNN Accuracy Score on Edge Detected Data with 3 Epochs and 128 Nodes:\n",
      "Loss:\t\t1.917222092271517\n",
      "Accuracy:\t0.47974860668182373\n",
      "\n",
      "Epoch 1/3\n",
      "17061/17061 [==============================] - 4s 215us/sample - loss: 2.8890 - acc: 0.1608\n",
      "Epoch 2/3\n",
      "17061/17061 [==============================] - 2s 143us/sample - loss: 2.3447 - acc: 0.3140\n",
      "Epoch 3/3\n",
      "17061/17061 [==============================] - 3s 148us/sample - loss: 2.0162 - acc: 0.4123\n",
      "4275/4275 [==============================] - 1s 345us/sample - loss: 1.9062 - acc: 0.4463\n",
      "\n",
      "DNN Accuracy Score on Merged Data with 3 Epochs and 128 Nodes:\n",
      "Loss:\t\t1.906170884740283\n",
      "Accuracy:\t0.44631579518318176\n",
      "\n"
     ]
    }
   ],
   "source": [
    "runDNN(original_raw, \"Original Data\", 3, 128)\n",
    "runDNN(std_scaled_data, \"StandardScaled Original Data\", 3, 128)\n",
    "runDNN(min_max_data, \"MinMaxScaled Original Data\", 3, 128)\n",
    "runDNN(edge_detected_data15, \"Edge Detected Data\", 3, 128)\n",
    "runDNN(mergedData_side, \"Merged Data\", 3, 128)\n"
   ]
  },
  {
   "cell_type": "code",
   "execution_count": 179,
   "metadata": {
    "scrolled": true
   },
   "outputs": [
    {
     "name": "stdout",
     "output_type": "stream",
     "text": [
      "Epoch 1/18\n",
      "5680/5680 [==============================] - 4s 644us/sample - loss: 2.5485 - acc: 0.2910\n",
      "Epoch 2/18\n",
      "5680/5680 [==============================] - 3s 469us/sample - loss: 1.6990 - acc: 0.5181\n",
      "Epoch 3/18\n",
      "5680/5680 [==============================] - 3s 458us/sample - loss: 1.2521 - acc: 0.6532\n",
      "Epoch 4/18\n",
      "5680/5680 [==============================] - 3s 446us/sample - loss: 0.9142 - acc: 0.7447\n",
      "Epoch 5/18\n",
      "5680/5680 [==============================] - 2s 418us/sample - loss: 0.6441 - acc: 0.8197\n",
      "Epoch 6/18\n",
      "5680/5680 [==============================] - 2s 375us/sample - loss: 0.4140 - acc: 0.8963\n",
      "Epoch 7/18\n",
      "5680/5680 [==============================] - 2s 354us/sample - loss: 0.2475 - acc: 0.9438\n",
      "Epoch 8/18\n",
      "5680/5680 [==============================] - 2s 356us/sample - loss: 0.1307 - acc: 0.9827\n",
      "Epoch 9/18\n",
      "5680/5680 [==============================] - 2s 354us/sample - loss: 0.0633 - acc: 0.9967\n",
      "Epoch 10/18\n",
      "5680/5680 [==============================] - 2s 351us/sample - loss: 0.0316 - acc: 0.9998\n",
      "Epoch 11/18\n",
      "5680/5680 [==============================] - 2s 345us/sample - loss: 0.0184 - acc: 1.0000\n",
      "Epoch 12/18\n",
      "5680/5680 [==============================] - 2s 353us/sample - loss: 0.0123 - acc: 1.0000\n",
      "Epoch 13/18\n",
      "5680/5680 [==============================] - 2s 368us/sample - loss: 0.0090 - acc: 1.0000\n",
      "Epoch 14/18\n",
      "5680/5680 [==============================] - 2s 386us/sample - loss: 0.0069 - acc: 1.0000\n",
      "Epoch 15/18\n",
      "5680/5680 [==============================] - 2s 394us/sample - loss: 0.0055 - acc: 1.0000\n",
      "Epoch 16/18\n",
      "5680/5680 [==============================] - 2s 360us/sample - loss: 0.0044 - acc: 1.0000\n",
      "Epoch 17/18\n",
      "5680/5680 [==============================] - 2s 349us/sample - loss: 0.0036 - acc: 1.0000\n",
      "Epoch 18/18\n",
      "5680/5680 [==============================] - 2s 352us/sample - loss: 0.0029 - acc: 1.0000\n",
      "1432/1432 [==============================] - 1s 802us/sample - loss: 1.9023 - acc: 0.6830\n",
      "\n",
      "DNN Accuracy Score on Edge Detected Data with 18 Epochs and 651 Nodes:\n",
      "Loss:\t\t1.9022782228512471\n",
      "Accuracy:\t0.6829608678817749\n",
      "\n",
      "Epoch 1/18\n",
      "17061/17061 [==============================] - 7s 403us/sample - loss: 2.5344 - acc: 0.2647\n",
      "Epoch 2/18\n",
      "17061/17061 [==============================] - 6s 337us/sample - loss: 1.7502 - acc: 0.4868\n",
      "Epoch 3/18\n",
      "17061/17061 [==============================] - 6s 341us/sample - loss: 1.3923 - acc: 0.5946\n",
      "Epoch 4/18\n",
      "17061/17061 [==============================] - 6s 358us/sample - loss: 1.1729 - acc: 0.6579\n",
      "Epoch 5/18\n",
      "17061/17061 [==============================] - 6s 344us/sample - loss: 1.0088 - acc: 0.7109\n",
      "Epoch 6/18\n",
      "17061/17061 [==============================] - 6s 345us/sample - loss: 0.8775 - acc: 0.7499\n",
      "Epoch 7/18\n",
      "17061/17061 [==============================] - 6s 359us/sample - loss: 0.7802 - acc: 0.7752\n",
      "Epoch 8/18\n",
      "17061/17061 [==============================] - 6s 343us/sample - loss: 0.6945 - acc: 0.7975\n",
      "Epoch 9/18\n",
      "17061/17061 [==============================] - 6s 349us/sample - loss: 0.6171 - acc: 0.8197\n",
      "Epoch 10/18\n",
      "17061/17061 [==============================] - 6s 374us/sample - loss: 0.5482 - acc: 0.8402\n",
      "Epoch 11/18\n",
      "17061/17061 [==============================] - 6s 357us/sample - loss: 0.4850 - acc: 0.8563\n",
      "Epoch 12/18\n",
      "17061/17061 [==============================] - 6s 355us/sample - loss: 0.4374 - acc: 0.8724\n",
      "Epoch 13/18\n",
      "17061/17061 [==============================] - 6s 344us/sample - loss: 0.3900 - acc: 0.8845\n",
      "Epoch 14/18\n",
      "17061/17061 [==============================] - 6s 342us/sample - loss: 0.3445 - acc: 0.8999\n",
      "Epoch 15/18\n",
      "17061/17061 [==============================] - 6s 344us/sample - loss: 0.3051 - acc: 0.9104\n",
      "Epoch 16/18\n",
      "17061/17061 [==============================] - 6s 341us/sample - loss: 0.2652 - acc: 0.9216\n",
      "Epoch 17/18\n",
      "17061/17061 [==============================] - 6s 362us/sample - loss: 0.2334 - acc: 0.9322\n",
      "Epoch 18/18\n",
      "17061/17061 [==============================] - 6s 349us/sample - loss: 0.2183 - acc: 0.9356\n",
      "4275/4275 [==============================] - 2s 362us/sample - loss: 1.0208 - acc: 0.7532\n",
      "\n",
      "DNN Accuracy Score on Merged Data with 18 Epochs and 651 Nodes:\n",
      "Loss:\t\t1.0207882389269376\n",
      "Accuracy:\t0.7532163858413696\n",
      "\n"
     ]
    }
   ],
   "source": [
    "runDNN(edge_detected_data15, \"Edge Detected Data\", 18, 651)\n",
    "runDNN(mergedData_side, \"Merged Data\", 18, 651)\n"
   ]
  },
  {
   "cell_type": "code",
   "execution_count": 167,
   "metadata": {
    "scrolled": true
   },
   "outputs": [
    {
     "name": "stdout",
     "output_type": "stream",
     "text": [
      "Epoch 1/18\n",
      "5680/5680 [==============================] - 3s 500us/sample - loss: 2.7211 - acc: 0.2336\n",
      "Epoch 2/18\n",
      "5680/5680 [==============================] - 2s 328us/sample - loss: 1.7472 - acc: 0.4896\n",
      "Epoch 3/18\n",
      "5680/5680 [==============================] - 2s 328us/sample - loss: 1.3287 - acc: 0.6099\n",
      "Epoch 4/18\n",
      "5680/5680 [==============================] - 2s 333us/sample - loss: 1.0873 - acc: 0.6889\n",
      "Epoch 5/18\n",
      "5680/5680 [==============================] - 2s 336us/sample - loss: 0.9166 - acc: 0.7371\n",
      "Epoch 6/18\n",
      "5680/5680 [==============================] - 2s 333us/sample - loss: 0.7841 - acc: 0.7745\n",
      "Epoch 7/18\n",
      "5680/5680 [==============================] - 2s 338us/sample - loss: 0.6784 - acc: 0.8053\n",
      "Epoch 8/18\n",
      "5680/5680 [==============================] - 2s 325us/sample - loss: 0.5888 - acc: 0.8343s - loss: 0.5866 - acc\n",
      "Epoch 9/18\n",
      "5680/5680 [==============================] - 2s 325us/sample - loss: 0.5240 - acc: 0.8491\n",
      "Epoch 10/18\n",
      "5680/5680 [==============================] - 2s 336us/sample - loss: 0.4581 - acc: 0.8710\n",
      "Epoch 11/18\n",
      "5680/5680 [==============================] - 2s 339us/sample - loss: 0.4061 - acc: 0.8829\n",
      "Epoch 12/18\n",
      "5680/5680 [==============================] - 2s 343us/sample - loss: 0.3509 - acc: 0.9011\n",
      "Epoch 13/18\n",
      "5680/5680 [==============================] - 2s 364us/sample - loss: 0.3222 - acc: 0.9121\n",
      "Epoch 14/18\n",
      "5680/5680 [==============================] - 2s 361us/sample - loss: 0.3012 - acc: 0.9164\n",
      "Epoch 15/18\n",
      "5680/5680 [==============================] - 2s 350us/sample - loss: 0.2356 - acc: 0.9377\n",
      "Epoch 16/18\n",
      "5680/5680 [==============================] - 2s 340us/sample - loss: 0.2163 - acc: 0.9428\n",
      "Epoch 17/18\n",
      "5680/5680 [==============================] - 2s 354us/sample - loss: 0.1964 - acc: 0.9468\n",
      "Epoch 18/18\n",
      "5680/5680 [==============================] - 2s 348us/sample - loss: 0.1661 - acc: 0.9577\n",
      "1432/1432 [==============================] - 1s 787us/sample - loss: 0.8033 - acc: 0.8233\n",
      "\n",
      "DNN Accuracy Score on Original Data with 18 Epochs and 651 Nodes:\n",
      "Loss:\t\t0.8033253404015269\n",
      "Accuracy:\t0.8233240246772766\n",
      "\n",
      "Epoch 1/18\n",
      "5680/5680 [==============================] - 3s 516us/sample - loss: 2.2524 - acc: 0.3843\n",
      "Epoch 2/18\n",
      "5680/5680 [==============================] - 3s 509us/sample - loss: 1.1351 - acc: 0.6819\n",
      "Epoch 3/18\n",
      "5680/5680 [==============================] - 3s 450us/sample - loss: 0.7271 - acc: 0.7995\n",
      "Epoch 4/18\n",
      "5680/5680 [==============================] - 3s 610us/sample - loss: 0.4888 - acc: 0.8687\n",
      "Epoch 5/18\n",
      "5680/5680 [==============================] - 4s 770us/sample - loss: 0.3034 - acc: 0.9236\n",
      "Epoch 6/18\n",
      "5680/5680 [==============================] - 3s 542us/sample - loss: 0.1872 - acc: 0.9577\n",
      "Epoch 7/18\n",
      "5680/5680 [==============================] - 3s 553us/sample - loss: 0.1127 - acc: 0.9764\n",
      "Epoch 8/18\n",
      "5680/5680 [==============================] - 3s 478us/sample - loss: 0.0602 - acc: 0.9905\n",
      "Epoch 9/18\n",
      "5680/5680 [==============================] - 3s 494us/sample - loss: 0.0329 - acc: 0.9968\n",
      "Epoch 10/18\n",
      "5680/5680 [==============================] - 3s 467us/sample - loss: 0.0189 - acc: 0.9986\n",
      "Epoch 11/18\n",
      "5680/5680 [==============================] - 3s 523us/sample - loss: 0.0106 - acc: 0.9998\n",
      "Epoch 12/18\n",
      "5680/5680 [==============================] - 3s 503us/sample - loss: 0.0069 - acc: 1.0000\n",
      "Epoch 13/18\n",
      "5680/5680 [==============================] - 2s 434us/sample - loss: 0.0053 - acc: 1.0000\n",
      "Epoch 14/18\n",
      "5680/5680 [==============================] - 2s 400us/sample - loss: 0.0041 - acc: 1.0000\n",
      "Epoch 15/18\n",
      "5680/5680 [==============================] - 2s 416us/sample - loss: 0.0033 - acc: 1.0000\n",
      "Epoch 16/18\n",
      "5680/5680 [==============================] - 2s 438us/sample - loss: 0.0028 - acc: 1.0000\n",
      "Epoch 17/18\n",
      "5680/5680 [==============================] - 3s 450us/sample - loss: 0.0023 - acc: 1.0000\n",
      "Epoch 18/18\n",
      "5680/5680 [==============================] - 2s 395us/sample - loss: 0.0020 - acc: 1.0000\n",
      "1432/1432 [==============================] - 1s 951us/sample - loss: 1.2337 - acc: 0.7640\n",
      "\n",
      "DNN Accuracy Score on StandardScaled Original Data with 18 Epochs and 651 Nodes:\n",
      "Loss:\t\t1.2336937948312174\n",
      "Accuracy:\t0.7639665007591248\n",
      "\n",
      "Epoch 1/18\n",
      "5680/5680 [==============================] - 4s 764us/sample - loss: 2.7147 - acc: 0.2405\n",
      "Epoch 2/18\n",
      "5680/5680 [==============================] - 3s 482us/sample - loss: 1.6669 - acc: 0.5123\n",
      "Epoch 3/18\n",
      "5680/5680 [==============================] - 2s 413us/sample - loss: 1.2108 - acc: 0.6535\n",
      "Epoch 4/18\n",
      "5680/5680 [==============================] - 2s 411us/sample - loss: 0.9701 - acc: 0.7220\n",
      "Epoch 5/18\n",
      "5680/5680 [==============================] - 2s 409us/sample - loss: 0.7956 - acc: 0.7715\n",
      "Epoch 6/18\n",
      "5680/5680 [==============================] - 2s 438us/sample - loss: 0.6744 - acc: 0.8030\n",
      "Epoch 7/18\n",
      "5680/5680 [==============================] - 2s 405us/sample - loss: 0.5638 - acc: 0.8375\n",
      "Epoch 8/18\n",
      "5680/5680 [==============================] - 2s 409us/sample - loss: 0.4706 - acc: 0.8618\n",
      "Epoch 9/18\n",
      "5680/5680 [==============================] - 2s 414us/sample - loss: 0.3870 - acc: 0.8915\n",
      "Epoch 10/18\n",
      "5680/5680 [==============================] - 2s 416us/sample - loss: 0.3285 - acc: 0.9053\n",
      "Epoch 11/18\n",
      "5680/5680 [==============================] - 3s 482us/sample - loss: 0.2736 - acc: 0.9227\n",
      "Epoch 12/18\n",
      "5680/5680 [==============================] - 3s 486us/sample - loss: 0.2289 - acc: 0.9393\n",
      "Epoch 13/18\n",
      "5680/5680 [==============================] - 2s 437us/sample - loss: 0.1884 - acc: 0.9486\n",
      "Epoch 14/18\n",
      "5680/5680 [==============================] - 3s 474us/sample - loss: 0.1536 - acc: 0.9579\n",
      "Epoch 15/18\n",
      "5680/5680 [==============================] - 2s 417us/sample - loss: 0.1061 - acc: 0.9768\n",
      "Epoch 16/18\n",
      "5680/5680 [==============================] - 2s 362us/sample - loss: 0.0850 - acc: 0.9829\n",
      "Epoch 17/18\n",
      "5680/5680 [==============================] - 2s 360us/sample - loss: 0.0744 - acc: 0.9850\n",
      "Epoch 18/18\n",
      "5680/5680 [==============================] - 2s 414us/sample - loss: 0.0598 - acc: 0.9882\n",
      "1432/1432 [==============================] - 1s 940us/sample - loss: 1.1405 - acc: 0.7793\n",
      "\n",
      "DNN Accuracy Score on MinMaxScaled Original Data with 18 Epochs and 651 Nodes:\n",
      "Loss:\t\t1.1404524961663358\n",
      "Accuracy:\t0.7793295979499817\n",
      "\n"
     ]
    }
   ],
   "source": [
    "runDNN(original_raw, \"Original Data\", 18, 651)\n",
    "runDNN(std_scaled_data, \"StandardScaled Original Data\", 18, 651)\n",
    "runDNN(min_max_data, \"MinMaxScaled Original Data\", 18, 651)\n"
   ]
  },
  {
   "cell_type": "code",
   "execution_count": 96,
   "metadata": {
    "scrolled": true
   },
   "outputs": [
    {
     "name": "stdout",
     "output_type": "stream",
     "text": [
      "Epoch 1/5\n",
      "28448/28448 [==============================] - 6s 222us/sample - loss: 2.0546 - acc: 0.4174\n",
      "Epoch 2/5\n",
      "28448/28448 [==============================] - 6s 203us/sample - loss: 1.2418 - acc: 0.6463\n",
      "Epoch 3/5\n",
      "28448/28448 [==============================] - 6s 203us/sample - loss: 0.9291 - acc: 0.7319\n",
      "Epoch 4/5\n",
      "28448/28448 [==============================] - 6s 203us/sample - loss: 0.7130 - acc: 0.7913\n",
      "Epoch 5/5\n",
      "28448/28448 [==============================] - 6s 197us/sample - loss: 0.5437 - acc: 0.8363\n",
      "7112/7112 [==============================] - 1s 97us/sample - loss: 1.0874 - acc: 0.7116\n",
      "\n",
      "DNN Accuracy Score on StandardScaled Merged Data:\n",
      "Loss:\t1.087371249284063\n",
      "Accuracy:\t0.711614191532135\n",
      "\n",
      "Epoch 1/5\n",
      "28448/28448 [==============================] - 7s 232us/sample - loss: 2.4525 - acc: 0.2926\n",
      "Epoch 2/5\n",
      "28448/28448 [==============================] - 6s 207us/sample - loss: 1.6213 - acc: 0.5305\n",
      "Epoch 3/5\n",
      "28448/28448 [==============================] - 6s 203us/sample - loss: 1.2823 - acc: 0.6326\n",
      "Epoch 4/5\n",
      "28448/28448 [==============================] - 6s 209us/sample - loss: 1.0827 - acc: 0.6880\n",
      "Epoch 5/5\n",
      "28448/28448 [==============================] - 6s 199us/sample - loss: 0.9376 - acc: 0.7307\n",
      "7112/7112 [==============================] - 1s 102us/sample - loss: 1.1142 - acc: 0.6804\n",
      "\n",
      "DNN Accuracy Score on MinMaxScaled Merged Data:\n",
      "Loss:\t1.1142117057259626\n",
      "Accuracy:\t0.6803992986679077\n",
      "\n",
      "Epoch 1/5\n",
      "28448/28448 [==============================] - 6s 222us/sample - loss: 2.4933 - acc: 0.2888\n",
      "Epoch 2/5\n",
      "28448/28448 [==============================] - 6s 204us/sample - loss: 1.7752 - acc: 0.4865\n",
      "Epoch 3/5\n",
      "28448/28448 [==============================] - 6s 202us/sample - loss: 1.3181 - acc: 0.6151\n",
      "Epoch 4/5\n",
      "28448/28448 [==============================] - 6s 203us/sample - loss: 0.9800 - acc: 0.7090\n",
      "Epoch 5/5\n",
      "28448/28448 [==============================] - 6s 206us/sample - loss: 0.7051 - acc: 0.7895\n",
      "7112/7112 [==============================] - 1s 118us/sample - loss: 1.6121 - acc: 0.5745\n",
      "\n",
      "DNN Accuracy Score on Edge Detected Merged Data (sigma=1):\n",
      "Loss:\t1.6121477250709577\n",
      "Accuracy:\t0.5745219588279724\n",
      "\n",
      "Epoch 1/5\n",
      "28448/28448 [==============================] - 6s 218us/sample - loss: 2.4820 - acc: 0.2913\n",
      "Epoch 2/5\n",
      "28448/28448 [==============================] - 6s 206us/sample - loss: 1.7356 - acc: 0.5015\n",
      "Epoch 3/5\n",
      "28448/28448 [==============================] - 6s 205us/sample - loss: 1.3019 - acc: 0.6227\n",
      "Epoch 4/5\n",
      "28448/28448 [==============================] - 6s 205us/sample - loss: 0.9759 - acc: 0.7128\n",
      "Epoch 5/5\n",
      "28448/28448 [==============================] - 6s 202us/sample - loss: 0.7001 - acc: 0.7926\n",
      "7112/7112 [==============================] - 1s 105us/sample - loss: 1.6460 - acc: 0.5693\n",
      "\n",
      "DNN Accuracy Score on Edge Detected Merged Data (sigma=1.5):\n",
      "Loss:\t1.6459812997296637\n",
      "Accuracy:\t0.569319486618042\n",
      "\n"
     ]
    }
   ],
   "source": [
    "runDNN(std_scaled_merged, \"StandardScaled Merged Data\")\n",
    "runDNN(min_max_merged, \"MinMaxScaled Merged Data\")\n",
    "runDNN(edge_detected_merged1, \"Edge Detected Merged Data (sigma=1)\")\n",
    "runDNN(edge_detected_merged15, \"Edge Detected Merged Data (sigma=1.5)\")"
   ]
  },
  {
   "cell_type": "code",
   "execution_count": 123,
   "metadata": {
    "scrolled": true
   },
   "outputs": [
    {
     "name": "stdout",
     "output_type": "stream",
     "text": [
      "Epoch 1/15\n",
      "5680/5680 [==============================] - 3s 498us/sample - loss: 2.6396 - acc: 0.2590\n",
      "Epoch 2/15\n",
      "5680/5680 [==============================] - 2s 388us/sample - loss: 1.6705 - acc: 0.5114\n",
      "Epoch 3/15\n",
      "5680/5680 [==============================] - 2s 418us/sample - loss: 1.2733 - acc: 0.6331\n",
      "Epoch 4/15\n",
      "5680/5680 [==============================] - 2s 402us/sample - loss: 1.0153 - acc: 0.7125\n",
      "Epoch 5/15\n",
      "5680/5680 [==============================] - 2s 405us/sample - loss: 0.8716 - acc: 0.7489\n",
      "Epoch 6/15\n",
      "5680/5680 [==============================] - 2s 403us/sample - loss: 0.7379 - acc: 0.7824\n",
      "Epoch 7/15\n",
      "5680/5680 [==============================] - 2s 403us/sample - loss: 0.6421 - acc: 0.8136\n",
      "Epoch 8/15\n",
      "5680/5680 [==============================] - 2s 402us/sample - loss: 0.5619 - acc: 0.8386\n",
      "Epoch 9/15\n",
      "5680/5680 [==============================] - 2s 404us/sample - loss: 0.4963 - acc: 0.8572\n",
      "Epoch 10/15\n",
      "5680/5680 [==============================] - 2s 402us/sample - loss: 0.4249 - acc: 0.8854s - l\n",
      "Epoch 11/15\n",
      "5680/5680 [==============================] - 2s 401us/sample - loss: 0.3707 - acc: 0.8952\n",
      "Epoch 12/15\n",
      "5680/5680 [==============================] - 2s 399us/sample - loss: 0.3189 - acc: 0.9092\n",
      "Epoch 13/15\n",
      "5680/5680 [==============================] - 2s 409us/sample - loss: 0.2935 - acc: 0.9134\n",
      "Epoch 14/15\n",
      "5680/5680 [==============================] - 2s 405us/sample - loss: 0.2511 - acc: 0.9313\n",
      "Epoch 15/15\n",
      "5680/5680 [==============================] - 2s 402us/sample - loss: 0.2161 - acc: 0.9371\n",
      "1432/1432 [==============================] - 1s 513us/sample - loss: 0.8619 - acc: 0.8094\n",
      "Epoch 1/15\n",
      "11368/11368 [==============================] - 5s 458us/sample - loss: 2.5553 - acc: 0.2664\n",
      "Epoch 2/15\n",
      "11368/11368 [==============================] - 5s 403us/sample - loss: 1.6682 - acc: 0.5157\n",
      "Epoch 3/15\n",
      "11368/11368 [==============================] - 5s 401us/sample - loss: 1.2673 - acc: 0.6425\n",
      "Epoch 4/15\n",
      "11368/11368 [==============================] - 5s 415us/sample - loss: 1.0382 - acc: 0.7031\n",
      "Epoch 5/15\n",
      "11368/11368 [==============================] - 4s 375us/sample - loss: 0.8819 - acc: 0.7484\n",
      "Epoch 6/15\n",
      "11368/11368 [==============================] - 4s 378us/sample - loss: 0.7539 - acc: 0.7856\n",
      "Epoch 7/15\n",
      "11368/11368 [==============================] - 4s 394us/sample - loss: 0.6633 - acc: 0.8109\n",
      "Epoch 8/15\n",
      "11368/11368 [==============================] - 4s 394us/sample - loss: 0.5825 - acc: 0.8307\n",
      "Epoch 9/15\n",
      "11368/11368 [==============================] - 4s 393us/sample - loss: 0.5085 - acc: 0.8536\n",
      "Epoch 10/15\n",
      "11368/11368 [==============================] - 4s 393us/sample - loss: 0.4461 - acc: 0.8705\n",
      "Epoch 11/15\n",
      "11368/11368 [==============================] - 4s 395us/sample - loss: 0.3890 - acc: 0.8877\n",
      "Epoch 12/15\n",
      "11368/11368 [==============================] - 4s 393us/sample - loss: 0.3373 - acc: 0.9028\n",
      "Epoch 13/15\n",
      "11368/11368 [==============================] - 5s 401us/sample - loss: 0.2933 - acc: 0.9156s - l - ETA: 0s - loss: 0.28\n",
      "Epoch 14/15\n",
      "11368/11368 [==============================] - 5s 406us/sample - loss: 0.2609 - acc: 0.9229\n",
      "Epoch 15/15\n",
      "11368/11368 [==============================] - 5s 407us/sample - loss: 0.2246 - acc: 0.9359\n",
      "2856/2856 [==============================] - 1s 328us/sample - loss: 0.9477 - acc: 0.7717\n",
      "Epoch 1/15\n",
      "28448/28448 [==============================] - 13s 440us/sample - loss: 2.3405 - acc: 0.3222\n",
      "Epoch 2/15\n",
      "28448/28448 [==============================] - 12s 413us/sample - loss: 1.5232 - acc: 0.5575\n",
      "Epoch 3/15\n",
      "28448/28448 [==============================] - 12s 413us/sample - loss: 1.2054 - acc: 0.6518\n",
      "Epoch 4/15\n",
      "28448/28448 [==============================] - 12s 405us/sample - loss: 1.0043 - acc: 0.7086\n",
      "Epoch 5/15\n",
      "28448/28448 [==============================] - 11s 393us/sample - loss: 0.8557 - acc: 0.7496 - loss: 0.8\n",
      "Epoch 6/15\n",
      "28448/28448 [==============================] - 11s 391us/sample - loss: 0.7347 - acc: 0.7818\n",
      "Epoch 7/15\n",
      "28448/28448 [==============================] - 11s 394us/sample - loss: 0.6370 - acc: 0.8104\n",
      "Epoch 8/15\n",
      "28448/28448 [==============================] - 11s 393us/sample - loss: 0.5447 - acc: 0.8343\n",
      "Epoch 9/15\n",
      "28448/28448 [==============================] - 11s 394us/sample - loss: 0.4726 - acc: 0.8578\n",
      "Epoch 10/15\n",
      "28448/28448 [==============================] - 12s 422us/sample - loss: 0.4087 - acc: 0.8750\n",
      "Epoch 11/15\n",
      "28448/28448 [==============================] - 12s 422us/sample - loss: 0.3487 - acc: 0.8938\n",
      "Epoch 12/15\n",
      "28448/28448 [==============================] - 12s 436us/sample - loss: 0.3046 - acc: 0.9078\n",
      "Epoch 13/15\n",
      "28448/28448 [==============================] - 12s 421us/sample - loss: 0.2652 - acc: 0.9189\n",
      "Epoch 14/15\n",
      "28448/28448 [==============================] - 12s 420us/sample - loss: 0.2252 - acc: 0.9325\n",
      "Epoch 15/15\n",
      "28448/28448 [==============================] - 12s 425us/sample - loss: 0.1989 - acc: 0.9388\n",
      "7112/7112 [==============================] - 1s 197us/sample - loss: 0.9416 - acc: 0.7735\n",
      " \n",
      "loss on raw data: 0.8618573639645922\n",
      "Accuracy on raw data:  0.8093575\n",
      " \n",
      "loss on merged_side data: 0.9477410622838498\n",
      "Accuracy on merged_side data:  0.77170867\n",
      " \n",
      "loss on merged data: 0.9415680173076312\n",
      "Accuracy on merged data:  0.7734814\n"
     ]
    }
   ],
   "source": [
    "# Raw set:\n",
    "l1,a1 = transform_data_for_tensorflow_and_run(train_org,\n",
    "                                              test_org)\n",
    "\n",
    "\n",
    "# Merged with 90 and 270 degrees\n",
    "l2, a2 = transform_data_for_tensorflow_and_run(train_merge_side,\n",
    "                                               test_merge_side)\n",
    "\n",
    "\n",
    "# Merged set\n",
    "l3, a3 = transform_data_for_tensorflow_and_run(train_merge,\n",
    "                                               test_merge)\n",
    "\n",
    "print(\" \")\n",
    "print(\"loss on raw data:\", l1)\n",
    "print(\"Accuracy on raw data: \", a1)\n",
    "\n",
    "\n",
    "print(\" \")\n",
    "print(\"loss on merged_side data:\", l2)\n",
    "print(\"Accuracy on merged_side data: \",a2)\n",
    "\n",
    "print(\" \")\n",
    "print(\"loss on merged data:\", l3)\n",
    "print(\"Accuracy on merged data: \",a3)"
   ]
  },
  {
   "cell_type": "markdown",
   "metadata": {},
   "source": [
    "# Ismars Tensor"
   ]
  },
  {
   "cell_type": "code",
   "execution_count": 281,
   "metadata": {},
   "outputs": [
    {
     "name": "stdout",
     "output_type": "stream",
     "text": [
      "(5680, 401)\n"
     ]
    }
   ],
   "source": [
    "train_set, test_set = get_train_test_set(original_raw)\n",
    "print(train_set.shape)"
   ]
  },
  {
   "cell_type": "code",
   "execution_count": 282,
   "metadata": {},
   "outputs": [
    {
     "name": "stdout",
     "output_type": "stream",
     "text": [
      "Epoch 1/18\n",
      "5680/5680 [==============================] - 3s 546us/sample - loss: 2.7736 - acc: 0.2204\n",
      "Epoch 2/18\n",
      "5680/5680 [==============================] - 2s 345us/sample - loss: 1.7686 - acc: 0.4810\n",
      "Epoch 3/18\n",
      "5680/5680 [==============================] - 2s 349us/sample - loss: 1.3314 - acc: 0.6136\n",
      "Epoch 4/18\n",
      "5680/5680 [==============================] - 2s 344us/sample - loss: 1.1150 - acc: 0.6792\n",
      "Epoch 5/18\n",
      "5680/5680 [==============================] - 2s 342us/sample - loss: 0.9248 - acc: 0.7359\n",
      "Epoch 6/18\n",
      "5680/5680 [==============================] - 2s 352us/sample - loss: 0.8088 - acc: 0.7732\n",
      "Epoch 7/18\n",
      "5680/5680 [==============================] - 3s 468us/sample - loss: 0.7108 - acc: 0.7960\n",
      "Epoch 8/18\n",
      "5680/5680 [==============================] - 3s 484us/sample - loss: 0.6226 - acc: 0.8250\n",
      "Epoch 9/18\n",
      "5680/5680 [==============================] - 2s 418us/sample - loss: 0.5386 - acc: 0.8431\n",
      "Epoch 10/18\n",
      "5680/5680 [==============================] - 2s 360us/sample - loss: 0.4775 - acc: 0.8621\n",
      "Epoch 11/18\n",
      "5680/5680 [==============================] - 2s 362us/sample - loss: 0.4167 - acc: 0.8850\n",
      "Epoch 12/18\n",
      "5680/5680 [==============================] - 2s 355us/sample - loss: 0.3739 - acc: 0.8926\n",
      "Epoch 13/18\n",
      "5680/5680 [==============================] - 2s 362us/sample - loss: 0.3262 - acc: 0.9114\n",
      "Epoch 14/18\n",
      "5680/5680 [==============================] - 2s 394us/sample - loss: 0.2925 - acc: 0.9217\n",
      "Epoch 15/18\n",
      "5680/5680 [==============================] - 2s 359us/sample - loss: 0.2714 - acc: 0.9236\n",
      "Epoch 16/18\n",
      "5680/5680 [==============================] - 2s 372us/sample - loss: 0.2219 - acc: 0.9398\n",
      "Epoch 17/18\n",
      "5680/5680 [==============================] - 2s 375us/sample - loss: 0.2124 - acc: 0.9424\n",
      "Epoch 18/18\n",
      "5680/5680 [==============================] - 2s 393us/sample - loss: 0.1711 - acc: 0.9548\n",
      "1432/1432 [==============================] - 1s 943us/sample - loss: 0.9036 - acc: 0.7996\n"
     ]
    }
   ],
   "source": [
    "def DNN(train_X,train_Y,test_X,test_y):\n",
    "    # Scale data (normalization), easier for network to learn:\n",
    "    # plt.imshow(train_X[0])\n",
    "    # plt.show\n",
    "    train_X = tf.keras.utils.normalize(train_X,axis=1)\n",
    "    test_X = tf.keras.utils.normalize(test_X,axis=1)\n",
    "\n",
    "    model = tf.keras.models.Sequential()\n",
    "    model.add(tf.keras.layers.Flatten())\n",
    "    model.add(tf.keras.layers.Dense(651, activation = tf.nn.relu )) \n",
    "    model.add(tf.keras.layers.Dense(651, activation = tf.nn.relu ))\n",
    "\n",
    "    model.add(tf.keras.layers.Dense(26, activation = tf.nn.softmax ))\n",
    "\n",
    "    model.compile(optimizer ='adam',\n",
    "                 loss='sparse_categorical_crossentropy',metrics=['accuracy'])\n",
    "\n",
    "    # train:\n",
    "    model.fit(train_X, train_Y, epochs = 18)\n",
    "    loss, accuracy = evaluate_model(model,test_X,test_y)\n",
    "\n",
    "    return loss, accuracy, model\n",
    "\n",
    "\n",
    "# Helper function trained model:\n",
    "def evaluate_model(model,test_X,test_y):\n",
    "    val_loss, val_acc = model.evaluate(test_X, test_y)\n",
    "    return val_loss, val_acc\n",
    "\n",
    "# train and test are dataframes (with the labels in the last column for both)\n",
    "def transform_data_for_tensorflow_and_run(train,test):\n",
    "    trainx = (train.drop(labels='Letter', axis = 1)).values\n",
    "    trainy = np.array(train['Letter'].tolist())\n",
    "    \n",
    "    testx = (test.drop(labels='Letter', axis = 1)).values\n",
    "    testy = np.array(test['Letter'].tolist())\n",
    "    loss, accuracy, model_tensor = DNN(trainx,\n",
    "           trainy,\n",
    "           testx,\n",
    "           testy)\n",
    "    \n",
    "    return loss, accuracy, model_tensor\n",
    "\n",
    "\n",
    "\n",
    "# Raw set:\n",
    "l1,a1,model_tensor = transform_data_for_tensorflow_and_run(train_set,\n",
    "                                              test_set)"
   ]
  },
  {
   "cell_type": "markdown",
   "metadata": {},
   "source": [
    "# Sliding Window"
   ]
  },
  {
   "cell_type": "code",
   "execution_count": null,
   "metadata": {},
   "outputs": [],
   "source": [
    "np.ones([20, 20]).astype(int)*255"
   ]
  },
  {
   "cell_type": "code",
   "execution_count": 351,
   "metadata": {},
   "outputs": [
    {
     "name": "stdout",
     "output_type": "stream",
     "text": [
      "KNN Accuracy Score on original Data with 5 Neighbours:\n",
      "Training Set:\t0.8244718309859155\n",
      "Test Set:\t0.6703910614525139\n"
     ]
    }
   ],
   "source": [
    "clf = runKNN(original_raw, 5, \"original\")\n"
   ]
  },
  {
   "cell_type": "code",
   "execution_count": null,
   "metadata": {},
   "outputs": [],
   "source": [
    "# Import the modules\n",
    "import cv2\n",
    "from sklearn.externals import joblib\n",
    "from skimage.feature import hog\n",
    "import numpy as np\n",
    "\n",
    "# Load the classifier\n",
    "#clf = joblib.load(\"digits_cls.pkl\")\n",
    "clf=clf\n",
    "\n",
    "# Read the input image \n",
    "im = cv2.imread(\"./dataset3/detection-images/detection-1.jpg\")\n",
    "\n",
    "# Convert to grayscale and apply Gaussian filtering\n",
    "im_gray = cv2.cvtColor(im, cv2.COLOR_BGR2GRAY)\n",
    "im_gray = cv2.GaussianBlur(im_gray, (5, 5), 0)\n",
    "\n",
    "# Threshold the image\n",
    "ret, im_th = cv2.threshold(im_gray, 90, 255, cv2.THRESH_BINARY_INV)\n",
    "\n",
    "# Find contours in the image\n",
    "ctrs, hier = cv2.findContours(im_th.copy(), cv2.RETR_EXTERNAL, cv2.CHAIN_APPROX_SIMPLE)\n",
    "\n",
    "# Get rectangles contains each contour\n",
    "rects = [cv2.boundingRect(ctr) for ctr in ctrs]\n",
    "\n",
    "# For each rectangular region, calculate HOG features and predict\n",
    "# the digit using Linear SVM.\n",
    "for rect in rects:\n",
    "    # Draw the rectangles\n",
    "    cv2.rectangle(im, (rect[0], rect[1]), (rect[0] + rect[2], rect[1] + rect[3]), (0, 255, 0), 3) \n",
    "    # Make the rectangular region around the digit\n",
    "    leng = int(rect[3] * 1.6)\n",
    "    pt1 = int(rect[1] + rect[3] // 2 - leng // 2)\n",
    "    pt2 = int(rect[0] + rect[2] // 2 - leng // 2)\n",
    "    roi = im_th[pt1:pt1+leng, pt2:pt2+leng]\n",
    "    # Resize the image\n",
    "    roi = cv2.resize(roi, (40, 40), interpolation=cv2.INTER_AREA)\n",
    "    roi = cv2.dilate(roi, (3, 3))\n",
    "    # Calculate the HOG features\n",
    "    roi_hog_fd = hog(roi, orientations=9, pixels_per_cell=(20, 20), cells_per_block=(1, 1), visualise=False)\n",
    "    #nbr = clf.predict(np.array([roi_hog_fd], 'float64'))\n",
    "    #cv2.putText(im, str(int(nbr[0])), (rect[0], rect[1]),cv2.FONT_HERSHEY_DUPLEX, 2, (0, 255, 255), 3)\n",
    "\n",
    "cv2.imshow(\"Resulting Image with Rectangular ROIs\", im)\n",
    "cv2.waitKey()"
   ]
  },
  {
   "cell_type": "code",
   "execution_count": 348,
   "metadata": {
    "scrolled": false
   },
   "outputs": [
    {
     "name": "stdout",
     "output_type": "stream",
     "text": [
      "1\n",
      "Predicted A with prediction 1.0\n",
      "2\n",
      "3\n",
      "4\n",
      "5\n",
      "6\n",
      "Predicted R with prediction 1.0\n",
      "7\n",
      "Predicted A with prediction 1.0\n",
      "8\n",
      "Predicted A with prediction 1.0\n",
      "9\n",
      "10\n",
      "11\n",
      "12\n",
      "Predicted R with prediction 1.0\n",
      "13\n",
      "Predicted N with prediction 1.0\n",
      "14\n",
      "Predicted A with prediction 1.0\n",
      "15\n",
      "Predicted C with prediction 1.0\n",
      "16\n",
      "Predicted T with prediction 1.0\n",
      "17\n",
      "Predicted T with prediction 1.0\n",
      "18\n",
      "Predicted R with prediction 1.0\n",
      "19\n",
      "Predicted R with prediction 1.0\n",
      "20\n",
      "Predicted N with prediction 1.0\n",
      "21\n",
      "Predicted A with prediction 1.0\n",
      "22\n",
      "Predicted A with prediction 1.0\n",
      "23\n",
      "Predicted L with prediction 1.0\n",
      "24\n",
      "Predicted R with prediction 1.0\n",
      "25\n",
      "Predicted R with prediction 1.0\n",
      "26\n",
      "Predicted R with prediction 1.0\n",
      "27\n",
      "Predicted R with prediction 1.0\n",
      "28\n",
      "Predicted A with prediction 1.0\n",
      "29\n",
      "Predicted A with prediction 1.0\n",
      "30\n",
      "Predicted R with prediction 1.0\n",
      "31\n",
      "Predicted R with prediction 1.0\n",
      "32\n",
      "Predicted R with prediction 1.0\n",
      "33\n",
      "Predicted R with prediction 1.0\n",
      "34\n",
      "Predicted R with prediction 1.0\n",
      "35\n",
      "Predicted A with prediction 1.0\n",
      "36\n"
     ]
    },
    {
     "data": {
      "image/png": "[encoded data removed]",
      "text/plain": [
       "<Figure size 432x288 with 1 Axes>"
      ]
     },
     "metadata": {
      "needs_background": "light"
     },
     "output_type": "display_data"
    },
    {
     "name": "stdout",
     "output_type": "stream",
     "text": [
      "[[1. 0. 0. 0. 0. 0. 0. 0. 0. 0. 0. 0. 0. 0. 0. 0. 0. 0. 0. 0. 0. 0. 0. 0.\n",
      "  0. 0.]]\n"
     ]
    }
   ],
   "source": [
    "import cv2\n",
    "\n",
    "# read the image and define the stepSize and window size \n",
    "# (width,height)\n",
    "image = cv2.imread(\"./dataset3/detection-images/detection-1.jpg\", cv2.IMREAD_GRAYSCALE) # your image path\n",
    "tmp = image # for drawing a rectangle\n",
    "stepSize = 30\n",
    "(w_width, w_height) = (30, 30) # window size\n",
    "counter=0\n",
    "data = pd.DataFrame()\n",
    "white_window = np.ones([stepSize, stepSize]).astype(int)*255\n",
    "class_letter = np.array([])\n",
    "for x in range(0, image.shape[1] - w_width , stepSize):\n",
    "    for y in range(0, image.shape[0] - w_height, stepSize):\n",
    "        window = image[x:x + w_width, y:y + w_height]\n",
    "        if(not np.array_equal(window, white_window)):\n",
    "        #data=addPictureToDataset(data, window, 'a')\n",
    "            resize = cv2.resize(window,(20,20),interpolation =cv2.INTER_AREA)\n",
    "            np.asarray(resize)\n",
    "            window = resize[:, :]\n",
    "            window=np.reshape(window,20*20)\n",
    "            window = pd.DataFrame(data=window).T\n",
    "            # Tensor:\n",
    "            prediction  = model_tensor.predict(window.values)\n",
    "\n",
    "            pos = prediction.argmax()\n",
    "            print('Predicted {0} with prediction {1}'.format(numberDict.get(pos), prediction[0][pos]))\n",
    "            #print(prediction[0])\n",
    "\n",
    "# classify content of the window with your classifier and  \n",
    "# determine if the window includes an object (cell) or not\n",
    "      # draw window on image\n",
    "        counter +=1\n",
    "        print(counter)\n",
    "        cv2.rectangle(tmp, (x, y), (x + w_width, y + w_height), (0, 0), 2) # draw rectangle on image\n",
    "        plt.imshow(np.array(tmp).astype('uint8'))\n",
    "# show all windows\n",
    "plt.show()\n",
    "#print(counter)\n",
    "#print(image.shape)\n",
    "#print(window)\n",
    "data.shape\n",
    "print(prediction)"
   ]
  },
  {
   "cell_type": "code",
   "execution_count": 321,
   "metadata": {},
   "outputs": [
    {
     "name": "stdout",
     "output_type": "stream",
     "text": [
      "1.0\n",
      "Predicted T with prediction 1.0\n"
     ]
    }
   ],
   "source": [
    "pos = prediction.argmax()\n",
    "\n",
    "print(prediction[0][pos])\n",
    "print('Predicted {0} with prediction {1}'.format(numberDict.get(pos), prediction[0][pos]))\n",
    "#data.drop(labels='Letter', axis = 1).iloc[0]"
   ]
  },
  {
   "cell_type": "code",
   "execution_count": 297,
   "metadata": {},
   "outputs": [
    {
     "ename": "InvalidArgumentError",
     "evalue": "Matrix size-incompatible: In[0]: [32,1], In[1]: [400,651]\n\t [[{{node MatMul_372}}]]",
     "output_type": "error",
     "traceback": [
      "\u001b[0;31m---------------------------------------------------------------------------\u001b[0m",
      "\u001b[0;31mInvalidArgumentError\u001b[0m                      Traceback (most recent call last)",
      "\u001b[0;32m<ipython-input-297-aebc19a33f80>\u001b[0m in \u001b[0;36m<module>\u001b[0;34m\u001b[0m\n\u001b[1;32m      5\u001b[0m \u001b[0mnumbers\u001b[0m \u001b[0;34m=\u001b[0m \u001b[0mnp\u001b[0m\u001b[0;34m.\u001b[0m\u001b[0marray\u001b[0m\u001b[0;34m(\u001b[0m\u001b[0;34m[\u001b[0m\u001b[0;34m]\u001b[0m\u001b[0;34m)\u001b[0m\u001b[0;34m\u001b[0m\u001b[0;34m\u001b[0m\u001b[0m\n\u001b[1;32m      6\u001b[0m \u001b[0;32mfor\u001b[0m \u001b[0mi\u001b[0m \u001b[0;32min\u001b[0m \u001b[0mrange\u001b[0m\u001b[0;34m(\u001b[0m\u001b[0my\u001b[0m\u001b[0;34m.\u001b[0m\u001b[0mshape\u001b[0m\u001b[0;34m[\u001b[0m\u001b[0;36m0\u001b[0m\u001b[0;34m]\u001b[0m\u001b[0;34m)\u001b[0m\u001b[0;34m:\u001b[0m\u001b[0;34m\u001b[0m\u001b[0;34m\u001b[0m\u001b[0m\n\u001b[0;32m----> 7\u001b[0;31m     \u001b[0mprediction\u001b[0m  \u001b[0;34m=\u001b[0m \u001b[0mmodel_tensor\u001b[0m\u001b[0;34m.\u001b[0m\u001b[0mpredict\u001b[0m\u001b[0;34m(\u001b[0m\u001b[0mdata\u001b[0m\u001b[0;34m.\u001b[0m\u001b[0mdrop\u001b[0m\u001b[0;34m(\u001b[0m\u001b[0mlabels\u001b[0m\u001b[0;34m=\u001b[0m\u001b[0;34m'Letter'\u001b[0m\u001b[0;34m,\u001b[0m \u001b[0maxis\u001b[0m \u001b[0;34m=\u001b[0m \u001b[0;36m1\u001b[0m\u001b[0;34m)\u001b[0m\u001b[0;34m.\u001b[0m\u001b[0miloc\u001b[0m\u001b[0;34m[\u001b[0m\u001b[0;36m0\u001b[0m\u001b[0;34m]\u001b[0m\u001b[0;34m.\u001b[0m\u001b[0mvalues\u001b[0m\u001b[0;34m)\u001b[0m\u001b[0;34m\u001b[0m\u001b[0;34m\u001b[0m\u001b[0m\n\u001b[0m\u001b[1;32m      8\u001b[0m     \u001b[0mprint\u001b[0m\u001b[0;34m(\u001b[0m\u001b[0mprediction\u001b[0m\u001b[0;34m)\u001b[0m\u001b[0;34m\u001b[0m\u001b[0;34m\u001b[0m\u001b[0m\n\u001b[1;32m      9\u001b[0m     \u001b[0;31m#numbers = np.append(numbers, numberDict.get(y[i][0]))\u001b[0m\u001b[0;34m\u001b[0m\u001b[0;34m\u001b[0m\u001b[0;34m\u001b[0m\u001b[0m\n",
      "\u001b[0;32m~/anaconda3/lib/python3.7/site-packages/tensorflow/python/keras/engine/training.py\u001b[0m in \u001b[0;36mpredict\u001b[0;34m(self, x, batch_size, verbose, steps, max_queue_size, workers, use_multiprocessing)\u001b[0m\n\u001b[1;32m   1111\u001b[0m     \u001b[0;32melse\u001b[0m\u001b[0;34m:\u001b[0m\u001b[0;34m\u001b[0m\u001b[0;34m\u001b[0m\u001b[0m\n\u001b[1;32m   1112\u001b[0m       return training_arrays.predict_loop(\n\u001b[0;32m-> 1113\u001b[0;31m           self, x, batch_size=batch_size, verbose=verbose, steps=steps)\n\u001b[0m\u001b[1;32m   1114\u001b[0m \u001b[0;34m\u001b[0m\u001b[0m\n\u001b[1;32m   1115\u001b[0m   \u001b[0;32mdef\u001b[0m \u001b[0mreset_metrics\u001b[0m\u001b[0;34m(\u001b[0m\u001b[0mself\u001b[0m\u001b[0;34m)\u001b[0m\u001b[0;34m:\u001b[0m\u001b[0;34m\u001b[0m\u001b[0;34m\u001b[0m\u001b[0m\n",
      "\u001b[0;32m~/anaconda3/lib/python3.7/site-packages/tensorflow/python/keras/engine/training_arrays.py\u001b[0m in \u001b[0;36mmodel_iteration\u001b[0;34m(model, inputs, targets, sample_weights, batch_size, epochs, verbose, callbacks, val_inputs, val_targets, val_sample_weights, shuffle, initial_epoch, steps_per_epoch, validation_steps, mode, validation_in_fit, **kwargs)\u001b[0m\n\u001b[1;32m    327\u001b[0m \u001b[0;34m\u001b[0m\u001b[0m\n\u001b[1;32m    328\u001b[0m         \u001b[0;31m# Get outputs.\u001b[0m\u001b[0;34m\u001b[0m\u001b[0;34m\u001b[0m\u001b[0;34m\u001b[0m\u001b[0m\n\u001b[0;32m--> 329\u001b[0;31m         \u001b[0mbatch_outs\u001b[0m \u001b[0;34m=\u001b[0m \u001b[0mf\u001b[0m\u001b[0;34m(\u001b[0m\u001b[0mins_batch\u001b[0m\u001b[0;34m)\u001b[0m\u001b[0;34m\u001b[0m\u001b[0;34m\u001b[0m\u001b[0m\n\u001b[0m\u001b[1;32m    330\u001b[0m         \u001b[0;32mif\u001b[0m \u001b[0;32mnot\u001b[0m \u001b[0misinstance\u001b[0m\u001b[0;34m(\u001b[0m\u001b[0mbatch_outs\u001b[0m\u001b[0;34m,\u001b[0m \u001b[0mlist\u001b[0m\u001b[0;34m)\u001b[0m\u001b[0;34m:\u001b[0m\u001b[0;34m\u001b[0m\u001b[0;34m\u001b[0m\u001b[0m\n\u001b[1;32m    331\u001b[0m           \u001b[0mbatch_outs\u001b[0m \u001b[0;34m=\u001b[0m \u001b[0;34m[\u001b[0m\u001b[0mbatch_outs\u001b[0m\u001b[0;34m]\u001b[0m\u001b[0;34m\u001b[0m\u001b[0;34m\u001b[0m\u001b[0m\n",
      "\u001b[0;32m~/anaconda3/lib/python3.7/site-packages/tensorflow/python/keras/backend.py\u001b[0m in \u001b[0;36m__call__\u001b[0;34m(self, inputs)\u001b[0m\n\u001b[1;32m   3074\u001b[0m \u001b[0;34m\u001b[0m\u001b[0m\n\u001b[1;32m   3075\u001b[0m     fetched = self._callable_fn(*array_vals,\n\u001b[0;32m-> 3076\u001b[0;31m                                 run_metadata=self.run_metadata)\n\u001b[0m\u001b[1;32m   3077\u001b[0m     \u001b[0mself\u001b[0m\u001b[0;34m.\u001b[0m\u001b[0m_call_fetch_callbacks\u001b[0m\u001b[0;34m(\u001b[0m\u001b[0mfetched\u001b[0m\u001b[0;34m[\u001b[0m\u001b[0;34m-\u001b[0m\u001b[0mlen\u001b[0m\u001b[0;34m(\u001b[0m\u001b[0mself\u001b[0m\u001b[0;34m.\u001b[0m\u001b[0m_fetches\u001b[0m\u001b[0;34m)\u001b[0m\u001b[0;34m:\u001b[0m\u001b[0;34m]\u001b[0m\u001b[0;34m)\u001b[0m\u001b[0;34m\u001b[0m\u001b[0;34m\u001b[0m\u001b[0m\n\u001b[1;32m   3078\u001b[0m     return nest.pack_sequence_as(self._outputs_structure,\n",
      "\u001b[0;32m~/anaconda3/lib/python3.7/site-packages/tensorflow/python/client/session.py\u001b[0m in \u001b[0;36m__call__\u001b[0;34m(self, *args, **kwargs)\u001b[0m\n\u001b[1;32m   1437\u001b[0m           ret = tf_session.TF_SessionRunCallable(\n\u001b[1;32m   1438\u001b[0m               \u001b[0mself\u001b[0m\u001b[0;34m.\u001b[0m\u001b[0m_session\u001b[0m\u001b[0;34m.\u001b[0m\u001b[0m_session\u001b[0m\u001b[0;34m,\u001b[0m \u001b[0mself\u001b[0m\u001b[0;34m.\u001b[0m\u001b[0m_handle\u001b[0m\u001b[0;34m,\u001b[0m \u001b[0margs\u001b[0m\u001b[0;34m,\u001b[0m \u001b[0mstatus\u001b[0m\u001b[0;34m,\u001b[0m\u001b[0;34m\u001b[0m\u001b[0;34m\u001b[0m\u001b[0m\n\u001b[0;32m-> 1439\u001b[0;31m               run_metadata_ptr)\n\u001b[0m\u001b[1;32m   1440\u001b[0m         \u001b[0;32mif\u001b[0m \u001b[0mrun_metadata\u001b[0m\u001b[0;34m:\u001b[0m\u001b[0;34m\u001b[0m\u001b[0;34m\u001b[0m\u001b[0m\n\u001b[1;32m   1441\u001b[0m           \u001b[0mproto_data\u001b[0m \u001b[0;34m=\u001b[0m \u001b[0mtf_session\u001b[0m\u001b[0;34m.\u001b[0m\u001b[0mTF_GetBuffer\u001b[0m\u001b[0;34m(\u001b[0m\u001b[0mrun_metadata_ptr\u001b[0m\u001b[0;34m)\u001b[0m\u001b[0;34m\u001b[0m\u001b[0;34m\u001b[0m\u001b[0m\n",
      "\u001b[0;32m~/anaconda3/lib/python3.7/site-packages/tensorflow/python/framework/errors_impl.py\u001b[0m in \u001b[0;36m__exit__\u001b[0;34m(self, type_arg, value_arg, traceback_arg)\u001b[0m\n\u001b[1;32m    526\u001b[0m             \u001b[0;32mNone\u001b[0m\u001b[0;34m,\u001b[0m \u001b[0;32mNone\u001b[0m\u001b[0;34m,\u001b[0m\u001b[0;34m\u001b[0m\u001b[0;34m\u001b[0m\u001b[0m\n\u001b[1;32m    527\u001b[0m             \u001b[0mcompat\u001b[0m\u001b[0;34m.\u001b[0m\u001b[0mas_text\u001b[0m\u001b[0;34m(\u001b[0m\u001b[0mc_api\u001b[0m\u001b[0;34m.\u001b[0m\u001b[0mTF_Message\u001b[0m\u001b[0;34m(\u001b[0m\u001b[0mself\u001b[0m\u001b[0;34m.\u001b[0m\u001b[0mstatus\u001b[0m\u001b[0;34m.\u001b[0m\u001b[0mstatus\u001b[0m\u001b[0;34m)\u001b[0m\u001b[0;34m)\u001b[0m\u001b[0;34m,\u001b[0m\u001b[0;34m\u001b[0m\u001b[0;34m\u001b[0m\u001b[0m\n\u001b[0;32m--> 528\u001b[0;31m             c_api.TF_GetCode(self.status.status))\n\u001b[0m\u001b[1;32m    529\u001b[0m     \u001b[0;31m# Delete the underlying status object from memory otherwise it stays alive\u001b[0m\u001b[0;34m\u001b[0m\u001b[0;34m\u001b[0m\u001b[0;34m\u001b[0m\u001b[0m\n\u001b[1;32m    530\u001b[0m     \u001b[0;31m# as there is a reference to status from this from the traceback due to\u001b[0m\u001b[0;34m\u001b[0m\u001b[0;34m\u001b[0m\u001b[0;34m\u001b[0m\u001b[0m\n",
      "\u001b[0;31mInvalidArgumentError\u001b[0m: Matrix size-incompatible: In[0]: [32,1], In[1]: [400,651]\n\t [[{{node MatMul_372}}]]"
     ]
    }
   ],
   "source": [
    "\n",
    "y = test_classifier(clf, data)\n",
    "y=np.array(y)\n",
    "#numberDict.get()\n",
    "numbers = np.array([])\n",
    "for i in range(y.shape[0]):\n",
    "    prediction  = model_tensor.predict(data.drop(labels='Letter', axis = 1).iloc[0].values)\n",
    "    print(prediction)\n",
    "    #numbers = np.append(numbers, numberDict.get(y[i][0]))\n",
    "print(y)\n",
    "print(numbers)"
   ]
  },
  {
   "cell_type": "markdown",
   "metadata": {},
   "source": [
    "## Printing Edge Detected Data (test)"
   ]
  },
  {
   "cell_type": "code",
   "execution_count": 11,
   "metadata": {
    "scrolled": true
   },
   "outputs": [
    {
     "name": "stdout",
     "output_type": "stream",
     "text": [
      "Detecting Edge in Dataset: 7111\r"
     ]
    }
   ],
   "source": [
    "data_edges_sigma1_org = detectEdges(original_raw, 1)\n",
    "data_edges_sigma15_org = detectEdges(original_raw, 1.5)\n",
    "data_edges_sigma1_aug90 = detectEdges(aug90, 1)\n",
    "data_edges_sigma1_aug20 = detectEdges(aug20, 1)\n"
   ]
  },
  {
   "cell_type": "code",
   "execution_count": 168,
   "metadata": {},
   "outputs": [
    {
     "data": {
      "image/png": "[encoded data removed]",
      "text/plain": [
       "<Figure size 432x288 with 1 Axes>"
      ]
     },
     "metadata": {
      "needs_background": "light"
     },
     "output_type": "display_data"
    },
    {
     "data": {
      "image/png": "[encoded data removed]",
      "text/plain": [
       "<Figure size 432x288 with 1 Axes>"
      ]
     },
     "metadata": {
      "needs_background": "light"
     },
     "output_type": "display_data"
    },
    {
     "data": {
      "image/png": "[encoded data removed]",
      "text/plain": [
       "<Figure size 432x288 with 1 Axes>"
      ]
     },
     "metadata": {
      "needs_background": "light"
     },
     "output_type": "display_data"
    },
    {
     "data": {
      "image/png": "[encoded data removed]",
      "text/plain": [
       "<Figure size 432x288 with 1 Axes>"
      ]
     },
     "metadata": {
      "needs_background": "light"
     },
     "output_type": "display_data"
    },
    {
     "data": {
      "image/png": "[encoded data removed]",
      "text/plain": [
       "<Figure size 432x288 with 1 Axes>"
      ]
     },
     "metadata": {
      "needs_background": "light"
     },
     "output_type": "display_data"
    },
    {
     "data": {
      "image/png": "[encoded data removed]",
      "text/plain": [
       "<Figure size 432x288 with 1 Axes>"
      ]
     },
     "metadata": {
      "needs_background": "light"
     },
     "output_type": "display_data"
    },
    {
     "data": {
      "image/png": "[encoded data removed]",
      "text/plain": [
       "<Figure size 432x288 with 1 Axes>"
      ]
     },
     "metadata": {
      "needs_background": "light"
     },
     "output_type": "display_data"
    },
    {
     "data": {
      "image/png": "[encoded data removed]",
      "text/plain": [
       "<Figure size 432x288 with 1 Axes>"
      ]
     },
     "metadata": {
      "needs_background": "light"
     },
     "output_type": "display_data"
    },
    {
     "data": {
      "image/png": "[encoded data removed]",
      "text/plain": [
       "<Figure size 432x288 with 1 Axes>"
      ]
     },
     "metadata": {
      "needs_background": "light"
     },
     "output_type": "display_data"
    },
    {
     "data": {
      "image/png": "[encoded data removed]",
      "text/plain": [
       "<Figure size 432x288 with 1 Axes>"
      ]
     },
     "metadata": {
      "needs_background": "light"
     },
     "output_type": "display_data"
    },
    {
     "data": {
      "image/png": "[encoded data removed]",
      "text/plain": [
       "<Figure size 432x288 with 1 Axes>"
      ]
     },
     "metadata": {
      "needs_background": "light"
     },
     "output_type": "display_data"
    },
    {
     "data": {
      "image/png": "[encoded data removed]",
      "text/plain": [
       "<Figure size 432x288 with 1 Axes>"
      ]
     },
     "metadata": {
      "needs_background": "light"
     },
     "output_type": "display_data"
    },
    {
     "data": {
      "image/png": "[encoded data removed]",
      "text/plain": [
       "<Figure size 432x288 with 1 Axes>"
      ]
     },
     "metadata": {
      "needs_background": "light"
     },
     "output_type": "display_data"
    },
    {
     "data": {
      "image/png": "[encoded data removed]",
      "text/plain": [
       "<Figure size 432x288 with 1 Axes>"
      ]
     },
     "metadata": {
      "needs_background": "light"
     },
     "output_type": "display_data"
    },
    {
     "data": {
      "image/png": "[encoded data removed]",
      "text/plain": [
       "<Figure size 432x288 with 1 Axes>"
      ]
     },
     "metadata": {
      "needs_background": "light"
     },
     "output_type": "display_data"
    },
    {
     "data": {
      "image/png": "[encoded data removed]",
      "text/plain": [
       "<Figure size 432x288 with 1 Axes>"
      ]
     },
     "metadata": {
      "needs_background": "light"
     },
     "output_type": "display_data"
    },
    {
     "data": {
      "image/png": "[encoded data removed]",
      "text/plain": [
       "<Figure size 432x288 with 1 Axes>"
      ]
     },
     "metadata": {
      "needs_background": "light"
     },
     "output_type": "display_data"
    },
    {
     "data": {
      "image/png": "[encoded data removed]",
      "text/plain": [
       "<Figure size 432x288 with 1 Axes>"
      ]
     },
     "metadata": {
      "needs_background": "light"
     },
     "output_type": "display_data"
    }
   ],
   "source": [
    "printFromStartToStop(2000, 2009, data_edges_sigma1_org, original_raw)"
   ]
  },
  {
   "cell_type": "code",
   "execution_count": 170,
   "metadata": {
    "collapsed": true
   },
   "outputs": [
    {
     "data": {
      "image/png": "[encoded data removed]",
      "text/plain": [
       "<Figure size 432x288 with 1 Axes>"
      ]
     },
     "metadata": {
      "needs_background": "light"
     },
     "output_type": "display_data"
    },
    {
     "data": {
      "image/png": "[encoded data removed]",
      "text/plain": [
       "<Figure size 432x288 with 1 Axes>"
      ]
     },
     "metadata": {
      "needs_background": "light"
     },
     "output_type": "display_data"
    },
    {
     "data": {
      "image/png": "[encoded data removed]",
      "text/plain": [
       "<Figure size 432x288 with 1 Axes>"
      ]
     },
     "metadata": {
      "needs_background": "light"
     },
     "output_type": "display_data"
    },
    {
     "data": {
      "image/png": "[encoded data removed]",
      "text/plain": [
       "<Figure size 432x288 with 1 Axes>"
      ]
     },
     "metadata": {
      "needs_background": "light"
     },
     "output_type": "display_data"
    },
    {
     "data": {
      "image/png": "[encoded data removed]",
      "text/plain": [
       "<Figure size 432x288 with 1 Axes>"
      ]
     },
     "metadata": {
      "needs_background": "light"
     },
     "output_type": "display_data"
    },
    {
     "data": {
      "image/png": "[encoded data removed]",
      "text/plain": [
       "<Figure size 432x288 with 1 Axes>"
      ]
     },
     "metadata": {
      "needs_background": "light"
     },
     "output_type": "display_data"
    },
    {
     "data": {
      "image/png": "[encoded data removed]",
      "text/plain": [
       "<Figure size 432x288 with 1 Axes>"
      ]
     },
     "metadata": {
      "needs_background": "light"
     },
     "output_type": "display_data"
    },
    {
     "data": {
      "image/png": "[encoded data removed]",
      "text/plain": [
       "<Figure size 432x288 with 1 Axes>"
      ]
     },
     "metadata": {
      "needs_background": "light"
     },
     "output_type": "display_data"
    },
    {
     "data": {
      "image/png": "[encoded data removed]",
      "text/plain": [
       "<Figure size 432x288 with 1 Axes>"
      ]
     },
     "metadata": {
      "needs_background": "light"
     },
     "output_type": "display_data"
    },
    {
     "data": {
      "image/png": "[encoded data removed]",
      "text/plain": [
       "<Figure size 432x288 with 1 Axes>"
      ]
     },
     "metadata": {
      "needs_background": "light"
     },
     "output_type": "display_data"
    },
    {
     "data": {
      "image/png": "[encoded data removed]",
      "text/plain": [
       "<Figure size 432x288 with 1 Axes>"
      ]
     },
     "metadata": {
      "needs_background": "light"
     },
     "output_type": "display_data"
    },
    {
     "data": {
      "image/png": "[encoded data removed]",
      "text/plain": [
       "<Figure size 432x288 with 1 Axes>"
      ]
     },
     "metadata": {
      "needs_background": "light"
     },
     "output_type": "display_data"
    },
    {
     "data": {
      "image/png": "[encoded data removed]",
      "text/plain": [
       "<Figure size 432x288 with 1 Axes>"
      ]
     },
     "metadata": {
      "needs_background": "light"
     },
     "output_type": "display_data"
    },
    {
     "data": {
      "image/png": "[encoded data removed]",
      "text/plain": [
       "<Figure size 432x288 with 1 Axes>"
      ]
     },
     "metadata": {
      "needs_background": "light"
     },
     "output_type": "display_data"
    },
    {
     "data": {
      "image/png": "[encoded data removed]",
      "text/plain": [
       "<Figure size 432x288 with 1 Axes>"
      ]
     },
     "metadata": {
      "needs_background": "light"
     },
     "output_type": "display_data"
    },
    {
     "data": {
      "image/png": "[encoded data removed]",
      "text/plain": [
       "<Figure size 432x288 with 1 Axes>"
      ]
     },
     "metadata": {
      "needs_background": "light"
     },
     "output_type": "display_data"
    },
    {
     "data": {
      "image/png": "[encoded data removed]",
      "text/plain": [
       "<Figure size 432x288 with 1 Axes>"
      ]
     },
     "metadata": {
      "needs_background": "light"
     },
     "output_type": "display_data"
    },
    {
     "data": {
      "image/png": "[encoded data removed]",
      "text/plain": [
       "<Figure size 432x288 with 1 Axes>"
      ]
     },
     "metadata": {
      "needs_background": "light"
     },
     "output_type": "display_data"
    }
   ],
   "source": [
    "printFromStartToStop(2000, 2009, data_edges_sigma15_org, original_raw)"
   ]
  },
  {
   "cell_type": "code",
   "execution_count": 14,
   "metadata": {
    "collapsed": true
   },
   "outputs": [
    {
     "data": {
      "image/png": "[encoded data removed]",
      "text/plain": [
       "<Figure size 432x288 with 1 Axes>"
      ]
     },
     "metadata": {
      "needs_background": "light"
     },
     "output_type": "display_data"
    },
    {
     "data": {
      "image/png": "[encoded data removed]",
      "text/plain": [
       "<Figure size 432x288 with 1 Axes>"
      ]
     },
     "metadata": {
      "needs_background": "light"
     },
     "output_type": "display_data"
    },
    {
     "data": {
      "image/png": "[encoded data removed]",
      "text/plain": [
       "<Figure size 432x288 with 1 Axes>"
      ]
     },
     "metadata": {
      "needs_background": "light"
     },
     "output_type": "display_data"
    },
    {
     "data": {
      "image/png": "[encoded data removed]",
      "text/plain": [
       "<Figure size 432x288 with 1 Axes>"
      ]
     },
     "metadata": {
      "needs_background": "light"
     },
     "output_type": "display_data"
    },
    {
     "data": {
      "image/png": "[encoded data removed]",
      "text/plain": [
       "<Figure size 432x288 with 1 Axes>"
      ]
     },
     "metadata": {
      "needs_background": "light"
     },
     "output_type": "display_data"
    },
    {
     "data": {
      "image/png": "[encoded data removed]",
      "text/plain": [
       "<Figure size 432x288 with 1 Axes>"
      ]
     },
     "metadata": {
      "needs_background": "light"
     },
     "output_type": "display_data"
    },
    {
     "data": {
      "image/png": "[encoded data removed]",
      "text/plain": [
       "<Figure size 432x288 with 1 Axes>"
      ]
     },
     "metadata": {
      "needs_background": "light"
     },
     "output_type": "display_data"
    },
    {
     "data": {
      "image/png": "[encoded data removed]",
      "text/plain": [
       "<Figure size 432x288 with 1 Axes>"
      ]
     },
     "metadata": {
      "needs_background": "light"
     },
     "output_type": "display_data"
    },
    {
     "data": {
      "image/png": "[encoded data removed]",
      "text/plain": [
       "<Figure size 432x288 with 1 Axes>"
      ]
     },
     "metadata": {
      "needs_background": "light"
     },
     "output_type": "display_data"
    },
    {
     "data": {
      "image/png": "[encoded data removed]",
      "text/plain": [
       "<Figure size 432x288 with 1 Axes>"
      ]
     },
     "metadata": {
      "needs_background": "light"
     },
     "output_type": "display_data"
    },
    {
     "data": {
      "image/png": "[encoded data removed]",
      "text/plain": [
       "<Figure size 432x288 with 1 Axes>"
      ]
     },
     "metadata": {
      "needs_background": "light"
     },
     "output_type": "display_data"
    },
    {
     "data": {
      "image/png": "[encoded data removed]",
      "text/plain": [
       "<Figure size 432x288 with 1 Axes>"
      ]
     },
     "metadata": {
      "needs_background": "light"
     },
     "output_type": "display_data"
    },
    {
     "data": {
      "image/png": "[encoded data removed]",
      "text/plain": [
       "<Figure size 432x288 with 1 Axes>"
      ]
     },
     "metadata": {
      "needs_background": "light"
     },
     "output_type": "display_data"
    },
    {
     "data": {
      "image/png": "[encoded data removed]",
      "text/plain": [
       "<Figure size 432x288 with 1 Axes>"
      ]
     },
     "metadata": {
      "needs_background": "light"
     },
     "output_type": "display_data"
    },
    {
     "data": {
      "image/png": "[encoded data removed]",
      "text/plain": [
       "<Figure size 432x288 with 1 Axes>"
      ]
     },
     "metadata": {
      "needs_background": "light"
     },
     "output_type": "display_data"
    },
    {
     "data": {
      "image/png": "[encoded data removed]",
      "text/plain": [
       "<Figure size 432x288 with 1 Axes>"
      ]
     },
     "metadata": {
      "needs_background": "light"
     },
     "output_type": "display_data"
    },
    {
     "data": {
      "image/png": "[encoded data removed]",
      "text/plain": [
       "<Figure size 432x288 with 1 Axes>"
      ]
     },
     "metadata": {
      "needs_background": "light"
     },
     "output_type": "display_data"
    },
    {
     "data": {
      "image/png": "[encoded data removed]",
      "text/plain": [
       "<Figure size 432x288 with 1 Axes>"
      ]
     },
     "metadata": {
      "needs_background": "light"
     },
     "output_type": "display_data"
    },
    {
     "data": {
      "image/png": "[encoded data removed]",
      "text/plain": [
       "<Figure size 432x288 with 1 Axes>"
      ]
     },
     "metadata": {
      "needs_background": "light"
     },
     "output_type": "display_data"
    },
    {
     "data": {
      "image/png": "[encoded data removed]",
      "text/plain": [
       "<Figure size 432x288 with 1 Axes>"
      ]
     },
     "metadata": {
      "needs_background": "light"
     },
     "output_type": "display_data"
    }
   ],
   "source": [
    "printFromStartToStop(700, 710, data_edges_sigma1_aug90, aug90)"
   ]
  },
  {
   "cell_type": "code",
   "execution_count": 15,
   "metadata": {
    "collapsed": true
   },
   "outputs": [
    {
     "data": {
      "image/png": "[encoded data removed]",
      "text/plain": [
       "<Figure size 432x288 with 1 Axes>"
      ]
     },
     "metadata": {
      "needs_background": "light"
     },
     "output_type": "display_data"
    },
    {
     "data": {
      "image/png": "[encoded data removed]",
      "text/plain": [
       "<Figure size 432x288 with 1 Axes>"
      ]
     },
     "metadata": {
      "needs_background": "light"
     },
     "output_type": "display_data"
    },
    {
     "data": {
      "image/png": "[encoded data removed]",
      "text/plain": [
       "<Figure size 432x288 with 1 Axes>"
      ]
     },
     "metadata": {
      "needs_background": "light"
     },
     "output_type": "display_data"
    },
    {
     "data": {
      "image/png": "[encoded data removed]",
      "text/plain": [
       "<Figure size 432x288 with 1 Axes>"
      ]
     },
     "metadata": {
      "needs_background": "light"
     },
     "output_type": "display_data"
    },
    {
     "data": {
      "image/png": "[encoded data removed]",
      "text/plain": [
       "<Figure size 432x288 with 1 Axes>"
      ]
     },
     "metadata": {
      "needs_background": "light"
     },
     "output_type": "display_data"
    },
    {
     "data": {
      "image/png": "[encoded data removed]",
      "text/plain": [
       "<Figure size 432x288 with 1 Axes>"
      ]
     },
     "metadata": {
      "needs_background": "light"
     },
     "output_type": "display_data"
    },
    {
     "data": {
      "image/png": "[encoded data removed]",
      "text/plain": [
       "<Figure size 432x288 with 1 Axes>"
      ]
     },
     "metadata": {
      "needs_background": "light"
     },
     "output_type": "display_data"
    },
    {
     "data": {
      "image/png": "[encoded data removed]",
      "text/plain": [
       "<Figure size 432x288 with 1 Axes>"
      ]
     },
     "metadata": {
      "needs_background": "light"
     },
     "output_type": "display_data"
    },
    {
     "data": {
      "image/png": "[encoded data removed]",
      "text/plain": [
       "<Figure size 432x288 with 1 Axes>"
      ]
     },
     "metadata": {
      "needs_background": "light"
     },
     "output_type": "display_data"
    },
    {
     "data": {
      "image/png": "[encoded data removed]",
      "text/plain": [
       "<Figure size 432x288 with 1 Axes>"
      ]
     },
     "metadata": {
      "needs_background": "light"
     },
     "output_type": "display_data"
    },
    {
     "data": {
      "image/png": "[encoded data removed]",
      "text/plain": [
       "<Figure size 432x288 with 1 Axes>"
      ]
     },
     "metadata": {
      "needs_background": "light"
     },
     "output_type": "display_data"
    },
    {
     "data": {
      "image/png": "[encoded data removed]",
      "text/plain": [
       "<Figure size 432x288 with 1 Axes>"
      ]
     },
     "metadata": {
      "needs_background": "light"
     },
     "output_type": "display_data"
    },
    {
     "data": {
      "image/png": "[encoded data removed]",
      "text/plain": [
       "<Figure size 432x288 with 1 Axes>"
      ]
     },
     "metadata": {
      "needs_background": "light"
     },
     "output_type": "display_data"
    },
    {
     "data": {
      "image/png": "[encoded data removed]",
      "text/plain": [
       "<Figure size 432x288 with 1 Axes>"
      ]
     },
     "metadata": {
      "needs_background": "light"
     },
     "output_type": "display_data"
    },
    {
     "data": {
      "image/png": "[encoded data removed]",
      "text/plain": [
       "<Figure size 432x288 with 1 Axes>"
      ]
     },
     "metadata": {
      "needs_background": "light"
     },
     "output_type": "display_data"
    },
    {
     "data": {
      "image/png": "[encoded data removed]",
      "text/plain": [
       "<Figure size 432x288 with 1 Axes>"
      ]
     },
     "metadata": {
      "needs_background": "light"
     },
     "output_type": "display_data"
    },
    {
     "data": {
      "image/png": "[encoded data removed]",
      "text/plain": [
       "<Figure size 432x288 with 1 Axes>"
      ]
     },
     "metadata": {
      "needs_background": "light"
     },
     "output_type": "display_data"
    },
    {
     "data": {
      "image/png": "[encoded data removed]",
      "text/plain": [
       "<Figure size 432x288 with 1 Axes>"
      ]
     },
     "metadata": {
      "needs_background": "light"
     },
     "output_type": "display_data"
    },
    {
     "data": {
      "image/png": "[encoded data removed]",
      "text/plain": [
       "<Figure size 432x288 with 1 Axes>"
      ]
     },
     "metadata": {
      "needs_background": "light"
     },
     "output_type": "display_data"
    },
    {
     "data": {
      "image/png": "[encoded data removed]",
      "text/plain": [
       "<Figure size 432x288 with 1 Axes>"
      ]
     },
     "metadata": {
      "needs_background": "light"
     },
     "output_type": "display_data"
    }
   ],
   "source": [
    "printFromStartToStop(700, 710, data_edges_sigma1_aug20, aug20)"
   ]
  },
  {
   "cell_type": "code",
   "execution_count": null,
   "metadata": {
    "scrolled": true
   },
   "outputs": [],
   "source": []
  }
 ],
 "metadata": {
  "kernelspec": {
   "display_name": "Python 3",
   "language": "python",
   "name": "python3"
  },
  "language_info": {
   "codemirror_mode": {
    "name": "ipython",
    "version": 3
   },
   "file_extension": ".py",
   "mimetype": "text/x-python",
   "name": "python",
   "nbconvert_exporter": "python",
   "pygments_lexer": "ipython3",
   "version": "3.7.1"
  }
 },
 "nbformat": 4,
 "nbformat_minor": 2
}
